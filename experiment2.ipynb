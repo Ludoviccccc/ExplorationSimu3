{
 "cells": [
  {
   "cell_type": "code",
   "execution_count": 1,
   "id": "6e9c5f6b-fb92-4e36-9e3a-8ba72653ae90",
   "metadata": {},
   "outputs": [],
   "source": [
    "from simulator.sim3 import *\n",
    "from exploration.env.func import Experiment, Env\n",
    "from exploration.random.func import RANDOM\n",
    "import numpy as np\n",
    "from codegeneration import generate_instruction_sequence\n",
    "from simulator.sim3 import print_contention_analysis\n",
    "import pandas as pd"
   ]
  },
  {
   "cell_type": "markdown",
   "id": "14b960e2-4b18-4e99-94f2-39b640ce7cf0",
   "metadata": {},
   "source": [
    "# Perform tests for the simulator"
   ]
  },
  {
   "cell_type": "code",
   "execution_count": 30,
   "id": "7775e823-d7b1-4913-be92-a44eef082216",
   "metadata": {},
   "outputs": [
    {
     "name": "stdout",
     "output_type": "stream",
     "text": [
      "===================================================================\n",
      "1 core, 2 read cycles, same cache line, no dependency\n",
      "===================================================================\n",
      "\n",
      "--- Simulation Stats ---\n",
      "{'core': 0, 'L1': {'level': 'L1', 'hits': 0, 'misses': 2, 'miss_rate': 1.0}, 'L2': {'level': 'L2', 'hits': 0, 'misses': 4, 'miss_rate': 1.0}}\n",
      "{'core': 1, 'L1': {'level': 'L1', 'hits': 0, 'misses': 2, 'miss_rate': 1.0}, 'L2': {'level': 'L2', 'hits': 0, 'misses': 4, 'miss_rate': 1.0}}\n"
     ]
    }
   ],
   "source": [
    "print(\"===================================================================\")\n",
    "print(\"1 core, 2 read cycles, same cache line, no dependency\")\n",
    "print(\"===================================================================\")\n",
    "# 1st RD => cache miss => DDR reads transaction \n",
    "# 2nd RD => cache hit => no DDR transaction\n",
    "# Create instruction sequences\n",
    "GlobalVar.clear_history()\n",
    "inst0 = { 0: ('read', 0), 60: ('read', 17) }\n",
    "inst1 = {}\n",
    "inst1 = { 0:('read', 4), 1:('read',0)}\n",
    "\n",
    "exp=Experiment()\n",
    "exp.load_instr(inst0, inst1)\n",
    "\n",
    "results = exp.simulate(200, display_stats=True)\n"
   ]
  },
  {
   "cell_type": "code",
   "execution_count": 3,
   "id": "e9f9e4cb-36d4-4bb3-b2b7-527b30d23340",
   "metadata": {},
   "outputs": [
    {
     "data": {
      "text/plain": [
       "[{'cycle': 0,\n",
       "  'type': 'L2_CACHE_CONTENTION',\n",
       "  'resource': 'L2_CACHE',\n",
       "  'initiators': [0, 1],\n",
       "  'details': {'set_indices': [0, 1],\n",
       "   'operations': ['read', 'read'],\n",
       "   'addresses': [0, 4]}},\n",
       " {'cycle': 6,\n",
       "  'type': 'DDR_MEMORY_CONTENTION',\n",
       "  'resource': 'DDR_MEMORY',\n",
       "  'initiators': [0, 1, 1],\n",
       "  'details': {'banks': [0, 0, 0],\n",
       "   'rows': [0, 0, 0],\n",
       "   'operations': ['read', 'read', 'read'],\n",
       "   'statuses': ['ROW MISS', 'waiting', 'waiting'],\n",
       "   'bank_conflicts': True,\n",
       "   'row_conflicts': False}}]"
      ]
     },
     "execution_count": 3,
     "metadata": {},
     "output_type": "execute_result"
    }
   ],
   "source": [
    "results['shared_resource_events']"
   ]
  },
  {
   "cell_type": "code",
   "execution_count": 4,
   "id": "660596b3-1e87-48ce-a89b-f54367312096",
   "metadata": {},
   "outputs": [
    {
     "data": {
      "text/plain": [
       "{'l2_contention_cycles': [0],\n",
       " 'ddr_contention_cycles': [6],\n",
       " 'total_contention_events': 2}"
      ]
     },
     "execution_count": 4,
     "metadata": {},
     "output_type": "execute_result"
    }
   ],
   "source": [
    "results['contention_events']"
   ]
  },
  {
   "cell_type": "code",
   "execution_count": 5,
   "id": "aeefa9b6-6ac0-41ed-8663-c7fc40743c04",
   "metadata": {
    "jupyter": {
     "source_hidden": true
    },
    "scrolled": true
   },
   "outputs": [
    {
     "name": "stdout",
     "output_type": "stream",
     "text": [
      "===================================================================\n",
      "1 core, 2 read cycles, same cache line, no dependency\n",
      "===================================================================\n",
      "\n",
      "--- Simulation Stats ---\n",
      "{'core': 0, 'L1': {'level': 'L1', 'hits': 0, 'misses': 2, 'miss_rate': 1.0}, 'L2': {'level': 'L2', 'hits': 0, 'misses': 2, 'miss_rate': 1.0}}\n",
      "{'core': 1, 'L1': {'level': 'L1', 'hits': 0, 'misses': 0, 'miss_rate': 0}, 'L2': {'level': 'L2', 'hits': 0, 'misses': 2, 'miss_rate': 1.0}}\n"
     ]
    }
   ],
   "source": [
    "print(\"===================================================================\")\n",
    "print(\"1 core, 2 read cycles, same cache line, no dependency\")\n",
    "print(\"===================================================================\")\n",
    "# 1st RD => cache miss => DDR reads transaction \n",
    "# 2nd RD => cache hit => no DDR transaction\n",
    "# Create instruction sequences\n",
    "GlobalVar.clear_history()\n",
    "inst0 = { 0: ('read', 0), 60: ('read', 17) }\n",
    "inst1 = {}\n",
    "#inst1 = { 0:('read', 4)}\n",
    "\n",
    "exp=Experiment()\n",
    "exp.load_instr(inst0, inst1)\n",
    "\n",
    "results = exp.simulate(200, display_stats=True)\n"
   ]
  },
  {
   "cell_type": "code",
   "execution_count": 6,
   "id": "bc447a58-8068-4b54-98ad-f11cda7a3df4",
   "metadata": {
    "scrolled": true
   },
   "outputs": [
    {
     "name": "stdout",
     "output_type": "stream",
     "text": [
      "===================================================================\n",
      "1 core, 2 read cycles, same cache line, no dependency\n",
      "===================================================================\n",
      "\n",
      "--- Simulation Stats ---\n",
      "{'core': 0, 'L1': {'level': 'L1', 'hits': 0, 'misses': 2, 'miss_rate': 1.0}, 'L2': {'level': 'L2', 'hits': 0, 'misses': 2, 'miss_rate': 1.0}}\n",
      "{'core': 1, 'L1': {'level': 'L1', 'hits': 0, 'misses': 0, 'miss_rate': 0}, 'L2': {'level': 'L2', 'hits': 0, 'misses': 2, 'miss_rate': 1.0}}\n"
     ]
    }
   ],
   "source": [
    "print(\"===================================================================\")\n",
    "print(\"1 core, 2 read cycles, same cache line, no dependency\")\n",
    "print(\"===================================================================\")\n",
    "# 1st RD => cache miss => DDR reads transaction \n",
    "# 2nd RD => cache hit => no DDR transaction\n",
    "# Create instruction sequences\n",
    "inst0 = { 0: ('read', 0), 60: ('read', 2) }\n",
    "inst1 = {  }\n",
    "\n",
    "exp=Experiment()\n",
    "exp.load_instr(inst0, inst1)\n",
    "\n",
    "results = exp.simulate(100, display_stats=True)"
   ]
  },
  {
   "cell_type": "code",
   "execution_count": 7,
   "id": "95cb0adf-8451-4bbb-93ae-abde4fe50a32",
   "metadata": {},
   "outputs": [
    {
     "name": "stdout",
     "output_type": "stream",
     "text": [
      "{'l2_contention_cycles': [], 'ddr_contention_cycles': [], 'total_contention_events': 0}\n"
     ]
    }
   ],
   "source": [
    "print(results['contention_events'])"
   ]
  },
  {
   "cell_type": "code",
   "execution_count": 68,
   "id": "bd217a0a-45e7-4bc0-8103-8625d771b9b1",
   "metadata": {},
   "outputs": [
    {
     "name": "stdout",
     "output_type": "stream",
     "text": [
      "[{'cycle': 0, 'type': 'L2_CACHE_CONTENTION', 'resource': 'L2_CACHE', 'initiators': [0, 1], 'details': {'set_indices': [0, 1], 'operations': ['read', 'read'], 'addresses': [0, 4]}}]\n"
     ]
    }
   ],
   "source": [
    "print(results['shared_resource_events'])"
   ]
  },
  {
   "cell_type": "code",
   "execution_count": 31,
   "id": "22af9cb0-e789-4430-9071-e3a8263a8b52",
   "metadata": {},
   "outputs": [
    {
     "name": "stdout",
     "output_type": "stream",
     "text": [
      "===================================================================\n",
      "1 core, 2 read cycles, different bank, no dependency\n",
      "===================================================================\n"
     ]
    },
    {
     "data": {
      "text/plain": [
       "{'time_core0': 51,\n",
       " 'time_core1': 0,\n",
       " 'miss_ratios_detailled': array([[ 1., -0., -0., -0.],\n",
       "        [-0., -0., -0., -0.]]),\n",
       " 'miss_ratios_global': np.float64(1.0),\n",
       " 'L1_miss_ratio_core0': 1.0,\n",
       " 'L1_miss_ratio_core1': 0,\n",
       " 'L2_miss_ratio': 1.0,\n",
       " 'contention_events': {'l2_contention_cycles': [],\n",
       "  'ddr_contention_cycles': [],\n",
       "  'total_contention_events': 0},\n",
       " 'shared_resource_events': []}"
      ]
     },
     "execution_count": 31,
     "metadata": {},
     "output_type": "execute_result"
    }
   ],
   "source": [
    "GlobalVar.clear_history()\n",
    "print(\"===================================================================\")\n",
    "print(\"1 core, 2 read cycles, different bank, no dependency\")\n",
    "print(\"===================================================================\")\n",
    "# bank nb = addr % num_banks, with num_banks=4\n",
    "# row nb = addr // 16\n",
    "# 1st RD in bank 0, row 0 \n",
    "# 1st RD in bank 1, row 1\n",
    "# 2nd RD => cache hit => no DDR transaction\n",
    "# Create instruction sequences\n",
    "\n",
    "# 1st RD => cache miss => DDR reads transaction \n",
    "# 2nd RD => cache miss => DDR reads transaction \n",
    "inst0 = { 0: ('read', 0)}\n",
    "inst1 = {  }\n",
    "\n",
    "exp=Experiment()\n",
    "exp.load_instr(inst0, inst1)\n",
    "\n",
    "exp.simulate(100)"
   ]
  },
  {
   "cell_type": "code",
   "execution_count": 32,
   "id": "7ee61ab4-45dd-46e0-8b07-55a778477aaf",
   "metadata": {},
   "outputs": [
    {
     "name": "stdout",
     "output_type": "stream",
     "text": [
      "===================================================================\n",
      "1 core, 2 read cycles, different bank, no dependency\n",
      "===================================================================\n"
     ]
    },
    {
     "data": {
      "text/plain": [
       "{'time_core0': 112,\n",
       " 'time_core1': 0,\n",
       " 'miss_ratios_detailled': array([[ 1., -0., -0., -0.],\n",
       "        [-0.,  1., -0., -0.]]),\n",
       " 'miss_ratios_global': np.float64(1.0),\n",
       " 'L1_miss_ratio_core0': 1.0,\n",
       " 'L1_miss_ratio_core1': 0,\n",
       " 'L2_miss_ratio': 1.0,\n",
       " 'contention_events': {'l2_contention_cycles': [],\n",
       "  'ddr_contention_cycles': [],\n",
       "  'total_contention_events': 0},\n",
       " 'shared_resource_events': []}"
      ]
     },
     "execution_count": 32,
     "metadata": {},
     "output_type": "execute_result"
    }
   ],
   "source": [
    "GlobalVar.clear_history()\n",
    "print(\"===================================================================\")\n",
    "print(\"1 core, 2 read cycles, different bank, no dependency\")\n",
    "print(\"===================================================================\")\n",
    "# bank nb = addr % num_banks, with num_banks=4\n",
    "# row nb = addr // 16\n",
    "# 1st RD in bank 0, row 0 \n",
    "# 1st RD in bank 1, row 1\n",
    "# 2nd RD => cache hit => no DDR transaction\n",
    "# Create instruction sequences\n",
    "\n",
    "# 1st RD => cache miss => DDR reads transaction \n",
    "# 2nd RD => cache miss => DDR reads transaction \n",
    "inst0 = { 0: ('read', 0), 60: ('read', 17)}\n",
    "inst1 = {  }\n",
    "\n",
    "exp=Experiment()\n",
    "exp.load_instr(inst0, inst1)\n",
    "\n",
    "exp.simulate(100)"
   ]
  },
  {
   "cell_type": "markdown",
   "id": "26a32d3a-f87e-42cf-82b1-9504ca0deeaf",
   "metadata": {},
   "source": [
    "We look at the miss ratios in cache and memory:"
   ]
  },
  {
   "cell_type": "code",
   "execution_count": 2,
   "id": "5fff22c0-b69c-4a20-b9b9-f36f10cbc0b1",
   "metadata": {},
   "outputs": [
    {
     "name": "stdout",
     "output_type": "stream",
     "text": [
      "One miss in the ddr memory, row 0, bank 0\n"
     ]
    },
    {
     "ename": "NameError",
     "evalue": "name 'exp' is not defined",
     "output_type": "error",
     "traceback": [
      "\u001b[0;31m---------------------------------------------------------------------------\u001b[0m",
      "\u001b[0;31mNameError\u001b[0m                                 Traceback (most recent call last)",
      "Cell \u001b[0;32mIn[2], line 5\u001b[0m\n\u001b[1;32m      3\u001b[0m     df \u001b[38;5;241m=\u001b[39m pd\u001b[38;5;241m.\u001b[39mDataFrame(tab,columns \u001b[38;5;241m=\u001b[39m [\u001b[38;5;124mf\u001b[39m\u001b[38;5;124m'\u001b[39m\u001b[38;5;124mbank \u001b[39m\u001b[38;5;132;01m{\u001b[39;00mj\u001b[38;5;132;01m}\u001b[39;00m\u001b[38;5;124m'\u001b[39m \u001b[38;5;28;01mfor\u001b[39;00m j \u001b[38;5;129;01min\u001b[39;00m \u001b[38;5;28mrange\u001b[39m(\u001b[38;5;241m4\u001b[39m)], index \u001b[38;5;241m=\u001b[39m [\u001b[38;5;124mf\u001b[39m\u001b[38;5;124m'\u001b[39m\u001b[38;5;124mrow \u001b[39m\u001b[38;5;132;01m{\u001b[39;00mj\u001b[38;5;132;01m}\u001b[39;00m\u001b[38;5;124m'\u001b[39m \u001b[38;5;28;01mfor\u001b[39;00m j \u001b[38;5;129;01min\u001b[39;00m \u001b[38;5;28mrange\u001b[39m(\u001b[38;5;241m2\u001b[39m)])\n\u001b[1;32m      4\u001b[0m     \u001b[38;5;28;01mreturn\u001b[39;00m df\n\u001b[0;32m----> 5\u001b[0m visu_ddr(\u001b[43mexp\u001b[49m\u001b[38;5;241m.\u001b[39mmiss_tab)\n",
      "\u001b[0;31mNameError\u001b[0m: name 'exp' is not defined"
     ]
    }
   ],
   "source": [
    "print('One miss in the ddr memory, row 0, bank 0')\n",
    "def visu_ddr(tab):\n",
    "    df = pd.DataFrame(tab,columns = [f'bank {j}' for j in range(4)], index = [f'row {j}' for j in range(2)])\n",
    "    return df\n",
    "visu_ddr(exp.miss_tab)"
   ]
  },
  {
   "cell_type": "code",
   "execution_count": null,
   "id": "9ddd04b9-fd0b-4991-9a37-47d3eab8c529",
   "metadata": {},
   "outputs": [],
   "source": []
  },
  {
   "cell_type": "code",
   "execution_count": 15,
   "id": "a3ddc7fc-1418-4091-98f2-08c0f7c17dbf",
   "metadata": {},
   "outputs": [
    {
     "name": "stdout",
     "output_type": "stream",
     "text": [
      "No hit occurs\n"
     ]
    },
    {
     "data": {
      "text/html": [
       "<div>\n",
       "<style scoped>\n",
       "    .dataframe tbody tr th:only-of-type {\n",
       "        vertical-align: middle;\n",
       "    }\n",
       "\n",
       "    .dataframe tbody tr th {\n",
       "        vertical-align: top;\n",
       "    }\n",
       "\n",
       "    .dataframe thead th {\n",
       "        text-align: right;\n",
       "    }\n",
       "</style>\n",
       "<table border=\"1\" class=\"dataframe\">\n",
       "  <thead>\n",
       "    <tr style=\"text-align: right;\">\n",
       "      <th></th>\n",
       "      <th>bank 0</th>\n",
       "      <th>bank 1</th>\n",
       "      <th>bank 2</th>\n",
       "      <th>bank 3</th>\n",
       "    </tr>\n",
       "  </thead>\n",
       "  <tbody>\n",
       "    <tr>\n",
       "      <th>row 0</th>\n",
       "      <td>0.0</td>\n",
       "      <td>0.0</td>\n",
       "      <td>0.0</td>\n",
       "      <td>0.0</td>\n",
       "    </tr>\n",
       "    <tr>\n",
       "      <th>row 1</th>\n",
       "      <td>0.0</td>\n",
       "      <td>0.0</td>\n",
       "      <td>0.0</td>\n",
       "      <td>0.0</td>\n",
       "    </tr>\n",
       "  </tbody>\n",
       "</table>\n",
       "</div>"
      ],
      "text/plain": [
       "       bank 0  bank 1  bank 2  bank 3\n",
       "row 0     0.0     0.0     0.0     0.0\n",
       "row 1     0.0     0.0     0.0     0.0"
      ]
     },
     "execution_count": 15,
     "metadata": {},
     "output_type": "execute_result"
    }
   ],
   "source": [
    "print('No hit occurs')\n",
    "visu_ddr(exp.hits_tab)"
   ]
  },
  {
   "cell_type": "markdown",
   "id": "31f148f1-3df4-4281-8907-9158ff33497e",
   "metadata": {},
   "source": [
    "# What data do we track ? "
   ]
  },
  {
   "cell_type": "code",
   "execution_count": 66,
   "id": "7354e4ac-b2dd-4d54-8cb7-c00cc70bc5ad",
   "metadata": {},
   "outputs": [],
   "source": [
    "p0 = generate_instruction_sequence(50)\n",
    "p1 = generate_instruction_sequence(50)"
   ]
  },
  {
   "cell_type": "code",
   "execution_count": 67,
   "id": "3bd116f7-60da-42fe-bbff-76f1e25075fa",
   "metadata": {},
   "outputs": [],
   "source": [
    "GlobalVar.clear_history()\n",
    "E =Env(300)\n",
    "out = E({'core0':p0, 'core1':p1})"
   ]
  },
  {
   "cell_type": "code",
   "execution_count": 75,
   "id": "7cc031c9-f147-461b-abce-d23cc45bd3bc",
   "metadata": {},
   "outputs": [],
   "source": [
    "def subsequence(cycle,parameter):\n",
    "    '''\n",
    "    returns the sequences of instructions up to the given cycle\n",
    "    '''\n",
    "    return {'core0':{k:parameter['core0'][k] for k in parameter['core0'] if k<=cycle},\n",
    "     'core1':{k:parameter['core1'][k] for k in parameter['core1'] if k<cycle}}"
   ]
  },
  {
   "cell_type": "code",
   "execution_count": 68,
   "id": "7f5838b8-3b35-4b61-9455-d21bd18697ed",
   "metadata": {},
   "outputs": [
    {
     "data": {
      "text/plain": [
       "[{'cycle': 0,\n",
       "  'type': 'L2_CACHE_CONTENTION',\n",
       "  'resource': 'L2_CACHE',\n",
       "  'initiators': [0, 1],\n",
       "  'details': {'set_indices': [1, 3],\n",
       "   'operations': ['read', 'read'],\n",
       "   'addresses': [5, 12]}},\n",
       " {'cycle': 1,\n",
       "  'type': 'L2_CACHE_CONTENTION',\n",
       "  'resource': 'L2_CACHE',\n",
       "  'initiators': [0, 1],\n",
       "  'details': {'set_indices': [4, 4],\n",
       "   'operations': ['read', 'read'],\n",
       "   'addresses': [17, 17]}},\n",
       " {'cycle': 6,\n",
       "  'type': 'L2_CACHE_CONTENTION',\n",
       "  'resource': 'L2_CACHE',\n",
       "  'initiators': [0, 1],\n",
       "  'details': {'set_indices': [0, 4],\n",
       "   'operations': ['read', 'read'],\n",
       "   'addresses': [3, 18]}},\n",
       " {'cycle': 27,\n",
       "  'type': 'DDR_MEMORY_CONTENTION',\n",
       "  'resource': 'DDR_MEMORY',\n",
       "  'initiators': [1, 1, 0, 1],\n",
       "  'details': {'banks': [2, 0, 2, 2],\n",
       "   'rows': [1, 0, 0, 0],\n",
       "   'operations': ['read', 'read', 'read', 'read'],\n",
       "   'statuses': ['ROW HIT', 'waiting', 'waiting', 'waiting'],\n",
       "   'bank_conflicts': True,\n",
       "   'row_conflicts': True}},\n",
       " {'cycle': 31,\n",
       "  'type': 'DDR_MEMORY_CONTENTION',\n",
       "  'resource': 'DDR_MEMORY',\n",
       "  'initiators': [0, 1],\n",
       "  'details': {'banks': [2, 2],\n",
       "   'rows': [0, 0],\n",
       "   'operations': ['read', 'read'],\n",
       "   'statuses': ['ROW MISS', 'waiting'],\n",
       "   'bank_conflicts': True,\n",
       "   'row_conflicts': False}}]"
      ]
     },
     "execution_count": 68,
     "metadata": {},
     "output_type": "execute_result"
    }
   ],
   "source": [
    "out['mutual']['shared_resource_events']"
   ]
  },
  {
   "cell_type": "code",
   "execution_count": 72,
   "id": "749c649a-1f1c-4a3a-8258-6a2bd981d2d2",
   "metadata": {},
   "outputs": [],
   "source": [
    "def shared_ressource2vec(in_,E):\n",
    "    count_banks = np.histogram(in_['details']['banks'],bins = range(E.num_banks+1))[0]/len(in_['details']['banks'])\n",
    "    count_rows = np.histogram(in_['details']['rows'],bins = range(E.num_rows+1))[0]/len(in_['details']['banks'])\n",
    "    ratios_core = np.array([sum(np.array(in_['initiators'])==1)/len(in_['initiators'])])\n",
    "    conflicts = np.array([1*in_['details']['bank_conflicts'],1*in_['details']['row_conflicts']])\n",
    "    out = np.concatenate((ratios_core,count_banks,count_rows,conflicts),axis=0)\n",
    "    return out"
   ]
  },
  {
   "cell_type": "code",
   "execution_count": 64,
   "id": "424d5669-06c5-440d-89c0-f04613660e78",
   "metadata": {},
   "outputs": [],
   "source": [
    "out_shared = shared_ressource2vec(out['mutual']['shared_resource_events'][1],E) "
   ]
  },
  {
   "cell_type": "code",
   "execution_count": 65,
   "id": "b5b7b7d9-39c2-437d-824e-e69a813a8d7d",
   "metadata": {},
   "outputs": [
    {
     "data": {
      "text/plain": [
       "array([0.5, 1. , 0. , 0. , 0. , 1. , 0. , 1. , 0. ])"
      ]
     },
     "execution_count": 65,
     "metadata": {},
     "output_type": "execute_result"
    }
   ],
   "source": [
    "out_shared"
   ]
  },
  {
   "cell_type": "code",
   "execution_count": 58,
   "id": "73357812-309d-453e-8e80-7937f5c35781",
   "metadata": {},
   "outputs": [
    {
     "name": "stdout",
     "output_type": "stream",
     "text": [
      "add candidates info for ddr\n",
      "add candidates info for ddr\n",
      "add candidates info for ddr\n",
      "{'time_core0': 64, 'time_core1': 57, 'miss_ratios_detailled': array([[ 1. ,  0.2,  1. ,  0.5],\n",
      "       [-0. , -0. , -0. , -0. ]]), 'miss_ratios_global': np.float64(0.16666666666666666), 'L1_miss_ratio_core0': 0.3333333333333333, 'L1_miss_ratio_core1': 1.0, 'L2_miss_ratio': 1.0, 'contention_events': {'l2_contention_cycles': [5], 'ddr_contention_cycles': [], 'total_contention_events': 1}, 'shared_resource_events': [{'cycle': 5, 'type': 'L2_CACHE_CONTENTION', 'resource': 'L2_CACHE', 'initiators': [0, 1], 'details': {'set_indices': [1, 1], 'operations': ['read', 'read'], 'addresses': [5, 7]}}]}\n"
     ]
    }
   ],
   "source": [
    "GlobalVar.clear_history()\n",
    "exp=Experiment()\n",
    "exp.load_instr(p0, p1)\n",
    "results = exp.simulate(100, display_stats=False)\n",
    "GlobalVar.clear_history()\n",
    "print(results)"
   ]
  },
  {
   "cell_type": "code",
   "execution_count": 53,
   "id": "21f702dd-9de6-4f17-b187-4a500a4ade53",
   "metadata": {},
   "outputs": [
    {
     "data": {
      "text/plain": [
       "{'time_core0': 62,\n",
       " 'time_core1': 56,\n",
       " 'miss_ratios_detailled': array([[ 1. ,  0.2,  1. ,  0.5],\n",
       "        [-0. , -0. , -0. , -0. ]]),\n",
       " 'miss_ratios_global': np.float64(0.16666666666666666),\n",
       " 'L1_miss_ratio_core0': 0.3333333333333333,\n",
       " 'L1_miss_ratio_core1': 1.0,\n",
       " 'L2_miss_ratio': 1.0,\n",
       " 'contention_events': {'l2_contention_cycles': [5],\n",
       "  'ddr_contention_cycles': [],\n",
       "  'total_contention_events': 1},\n",
       " 'shared_resource_events': [{'cycle': 5,\n",
       "   'type': 'L2_CACHE_CONTENTION',\n",
       "   'resource': 'L2_CACHE',\n",
       "   'initiators': [0, 1],\n",
       "   'details': {'set_indices': [1, 1],\n",
       "    'operations': ['read', 'read'],\n",
       "    'addresses': [5, 7]}}]}"
      ]
     },
     "execution_count": 53,
     "metadata": {},
     "output_type": "execute_result"
    }
   ],
   "source": [
    "results"
   ]
  },
  {
   "cell_type": "code",
   "execution_count": 44,
   "id": "baa582e4-74b1-4908-af68-fc88e0007cbe",
   "metadata": {},
   "outputs": [
    {
     "data": {
      "text/plain": [
       "{'time_core0': 0,\n",
       " 'time_core1': 0,\n",
       " 'miss_ratios_detailled': array([[-0., -0., -0., -0.],\n",
       "        [-0., -0., -0., -0.]]),\n",
       " 'miss_ratios_global': 0,\n",
       " 'L1_miss_ratio_core0': 0,\n",
       " 'L1_miss_ratio_core1': 0,\n",
       " 'L2_miss_ratio': 0,\n",
       " 'contention_events': {'l2_contention_cycles': [],\n",
       "  'ddr_contention_cycles': [],\n",
       "  'total_contention_events': 0},\n",
       " 'shared_resource_events': []}"
      ]
     },
     "execution_count": 44,
     "metadata": {},
     "output_type": "execute_result"
    }
   ],
   "source": [
    "out['mutual']"
   ]
  },
  {
   "cell_type": "code",
   "execution_count": 8,
   "id": "4985d87f-6a1e-40ab-91c4-047e4af7fc76",
   "metadata": {},
   "outputs": [
    {
     "data": {
      "text/plain": [
       "[]"
      ]
     },
     "execution_count": 8,
     "metadata": {},
     "output_type": "execute_result"
    }
   ],
   "source": [
    "GlobalVar.l2_access_log"
   ]
  },
  {
   "cell_type": "code",
   "execution_count": null,
   "id": "58f2a4d8-b4eb-42bd-a6c3-01214b08ea00",
   "metadata": {},
   "outputs": [],
   "source": []
  },
  {
   "cell_type": "markdown",
   "id": "e0459493-3f61-4024-8f3b-92fcf19cf539",
   "metadata": {},
   "source": [
    "# We conceive an History to enrich during exploration"
   ]
  },
  {
   "cell_type": "code",
   "execution_count": 8,
   "id": "6c0f10a1-6bc8-4fe5-aa46-d9ebe9aba62d",
   "metadata": {},
   "outputs": [],
   "source": [
    "from exploration.history import History"
   ]
  },
  {
   "cell_type": "code",
   "execution_count": 9,
   "id": "5bb4e26a-757a-4015-b4fb-ca04462f0510",
   "metadata": {},
   "outputs": [],
   "source": [
    "H = History()"
   ]
  },
  {
   "cell_type": "code",
   "execution_count": 10,
   "id": "bf5f3e2e-0989-4b8e-9958-60324cb159df",
   "metadata": {},
   "outputs": [],
   "source": [
    "entry = {'program':{'core0':[p0],'core1':[p1]}} | out"
   ]
  },
  {
   "cell_type": "code",
   "execution_count": 11,
   "id": "6af8fa3c-01e9-4bc3-81fb-583e57b40cd3",
   "metadata": {},
   "outputs": [
    {
     "data": {
      "text/plain": [
       "0"
      ]
     },
     "execution_count": 11,
     "metadata": {},
     "output_type": "execute_result"
    }
   ],
   "source": [
    "entry['mutual']['time_core0']"
   ]
  },
  {
   "cell_type": "code",
   "execution_count": 12,
   "id": "b3497eec-e083-4a4a-9242-4a9c467492ae",
   "metadata": {
    "scrolled": true
   },
   "outputs": [
    {
     "data": {
      "text/plain": [
       "[]"
      ]
     },
     "execution_count": 12,
     "metadata": {},
     "output_type": "execute_result"
    }
   ],
   "source": [
    "entry['mutual']['shared_resource_events']"
   ]
  },
  {
   "cell_type": "code",
   "execution_count": 13,
   "id": "1eec7932-125d-453d-96e6-be3747cab2c2",
   "metadata": {},
   "outputs": [],
   "source": [
    "H.store(entry)"
   ]
  },
  {
   "cell_type": "code",
   "execution_count": 14,
   "id": "f7819450-92f7-45de-9b15-f3f9e4ee0503",
   "metadata": {},
   "outputs": [
    {
     "data": {
      "text/plain": [
       "dict_keys(['time_core0', 'time_core1', 'miss_ratios_detailled', 'miss_ratios_global', 'L1_miss_ratio_core0', 'L1_miss_ratio_core1', 'L2_miss_ratio', 'contention_events', 'shared_resource_events'])"
      ]
     },
     "execution_count": 14,
     "metadata": {},
     "output_type": "execute_result"
    }
   ],
   "source": [
    "H.memory_perf['mutual'].keys()"
   ]
  },
  {
   "cell_type": "code",
   "execution_count": 15,
   "id": "1600d7cc-d062-4e8d-ab65-45439a00dd0e",
   "metadata": {},
   "outputs": [
    {
     "data": {
      "text/plain": [
       "[[]]"
      ]
     },
     "execution_count": 15,
     "metadata": {},
     "output_type": "execute_result"
    }
   ],
   "source": [
    "H.memory_perf['mutual']['shared_resource_events']"
   ]
  },
  {
   "cell_type": "markdown",
   "id": "bc034545-043a-4303-8c5b-5adbd65a1b77",
   "metadata": {},
   "source": [
    "# Perform exploration with random generated programs"
   ]
  },
  {
   "cell_type": "code",
   "execution_count": 2,
   "id": "b8588955-e718-424d-b406-5e07010acede",
   "metadata": {},
   "outputs": [],
   "source": [
    "from exploration.history import History"
   ]
  },
  {
   "cell_type": "code",
   "execution_count": 3,
   "id": "88e44173-e958-4e35-bf29-685941bd27a2",
   "metadata": {},
   "outputs": [],
   "source": [
    "N = 201\n",
    "\n",
    "E =Env(300)\n",
    "H = History(env=E)\n",
    "random_explor = RANDOM(N,E,H)"
   ]
  },
  {
   "cell_type": "code",
   "execution_count": 4,
   "id": "b5530127-5b3d-44c7-bb1f-13bf25a4b636",
   "metadata": {},
   "outputs": [
    {
     "name": "stdout",
     "output_type": "stream",
     "text": [
      "step 0/200\n",
      "step 100/200\n",
      "step 200/200\n"
     ]
    }
   ],
   "source": [
    "random_explor()"
   ]
  },
  {
   "cell_type": "code",
   "execution_count": 5,
   "id": "d15910bb-ce6b-451f-ab8c-d116eaa241c0",
   "metadata": {},
   "outputs": [],
   "source": [
    "from exploration.imgep.OptimizationPolicy import OptimizationPolicykNN as OP"
   ]
  },
  {
   "cell_type": "code",
   "execution_count": 16,
   "id": "97d64886-f157-489a-9594-026bed041f88",
   "metadata": {},
   "outputs": [],
   "source": [
    "Pi = OP(k=2)"
   ]
  },
  {
   "cell_type": "code",
   "execution_count": 17,
   "id": "2c3a703c-cfb1-4c7b-a711-d6719c67692f",
   "metadata": {},
   "outputs": [
    {
     "name": "stdout",
     "output_type": "stream",
     "text": [
      "Help on OptimizationPolicykNN in module exploration.imgep.OptimizationPolicy object:\n",
      "\n",
      "class OptimizationPolicykNN(exploration.imgep.features.Features)\n",
      " |  OptimizationPolicykNN(k=1, num_mutations=1, max_len=50, num_addr=20, num_bank=4, min_instr=5, max_instr=50, max_cycle=60, min_address_core0=0, max_address_core0=10, min_address_core1=11, max_address_core1=21)\n",
      " |  \n",
      " |  Method resolution order:\n",
      " |      OptimizationPolicykNN\n",
      " |      exploration.imgep.features.Features\n",
      " |      builtins.object\n",
      " |  \n",
      " |  Methods defined here:\n",
      " |  \n",
      " |  __call__(self, goal: numpy.ndarray, H: exploration.history.History, module: int) -> dict\n",
      " |      Call self as a function.\n",
      " |  \n",
      " |  __init__(self, k=1, num_mutations=1, max_len=50, num_addr=20, num_bank=4, min_instr=5, max_instr=50, max_cycle=60, min_address_core0=0, max_address_core0=10, min_address_core1=11, max_address_core1=21)\n",
      " |      Initialize self.  See help(type(self)) for accurate signature.\n",
      " |  \n",
      " |  feature2closest_code(self, features, signature: numpy.ndarray) -> numpy.ndarray\n",
      " |  \n",
      " |  light_code_mutation(self, programs: dict[list[dict]])\n",
      " |  \n",
      " |  loss(self, goal: numpy.ndarray, elements: numpy.ndarray)\n",
      " |  \n",
      " |  mix(self, programs: list[dict])\n",
      " |  \n",
      " |  select_closest_codes(self, H: exploration.history.History, signature: numpy.ndarray, module: int) -> dict\n",
      " |  \n",
      " |  ----------------------------------------------------------------------\n",
      " |  Methods inherited from exploration.imgep.features.Features:\n",
      " |  \n",
      " |  data2feature(self, stats: dict, module: str) -> numpy.ndarray\n",
      " |  \n",
      " |  ----------------------------------------------------------------------\n",
      " |  Data descriptors inherited from exploration.imgep.features.Features:\n",
      " |  \n",
      " |  __dict__\n",
      " |      dictionary for instance variables (if defined)\n",
      " |  \n",
      " |  __weakref__\n",
      " |      list of weak references to the object (if defined)\n",
      "\n"
     ]
    }
   ],
   "source": [
    "help(Pi)"
   ]
  },
  {
   "cell_type": "code",
   "execution_count": 18,
   "id": "c65790e8-63d3-4d0b-adb6-eead4a827605",
   "metadata": {},
   "outputs": [],
   "source": [
    "p0 = generate_instruction_sequence(50)\n",
    "p1 = generate_instruction_sequence(50)\n",
    "programs = {'core0':p0,'core1':p1}"
   ]
  },
  {
   "cell_type": "code",
   "execution_count": null,
   "id": "6dce9876-558b-4451-8cc9-cc41aa20070c",
   "metadata": {},
   "outputs": [],
   "source": []
  },
  {
   "cell_type": "code",
   "execution_count": 19,
   "id": "74edb7c2-d058-4377-a2ee-de04e6a16b55",
   "metadata": {},
   "outputs": [],
   "source": [
    "t = GlobalVar.global_cycle\n",
    "t=2"
   ]
  },
  {
   "cell_type": "code",
   "execution_count": 20,
   "id": "ba175ae7-7154-4b80-88e5-46692dc71fce",
   "metadata": {},
   "outputs": [
    {
     "name": "stdout",
     "output_type": "stream",
     "text": [
      "dict_keys(['mutual', 'core0', 'core1'])\n"
     ]
    }
   ],
   "source": [
    "print(H.memory_perf.keys())"
   ]
  },
  {
   "cell_type": "code",
   "execution_count": 21,
   "id": "0251b487-6fcd-4408-8482-efc984b5bcc3",
   "metadata": {},
   "outputs": [
    {
     "data": {
      "text/plain": [
       "dict_keys(['time_core0', 'time_core1', 'miss_ratios_detailled', 'miss_ratios_global', 'L1_miss_ratio_core0', 'L1_miss_ratio_core1', 'L2_miss_ratio', 'shared_resource_events'])"
      ]
     },
     "execution_count": 21,
     "metadata": {},
     "output_type": "execute_result"
    }
   ],
   "source": [
    "H.memory_perf['mutual'].keys()"
   ]
  },
  {
   "cell_type": "code",
   "execution_count": 22,
   "id": "118f6b8f-7e0e-4799-a4d4-bf64785c2e54",
   "metadata": {},
   "outputs": [],
   "source": [
    "feature = H.as_array()[0]"
   ]
  },
  {
   "cell_type": "code",
   "execution_count": 12,
   "id": "1157379c-71ab-4d81-958e-b0c3f582ced3",
   "metadata": {},
   "outputs": [
    {
     "name": "stdout",
     "output_type": "stream",
     "text": [
      "0\n"
     ]
    }
   ],
   "source": [
    "print(GlobalVar.global_cycle)"
   ]
  },
  {
   "cell_type": "code",
   "execution_count": 13,
   "id": "ee6673bd-370d-4671-94cc-28c7db4410b4",
   "metadata": {},
   "outputs": [
    {
     "data": {
      "text/plain": [
       "array([2])"
      ]
     },
     "execution_count": 13,
     "metadata": {},
     "output_type": "execute_result"
    }
   ],
   "source": [
    "Pi.feature2closest_code(feature,np.array([62]))"
   ]
  },
  {
   "cell_type": "code",
   "execution_count": 27,
   "id": "050ac5ad-a619-48fb-ba7b-72fd0b78445b",
   "metadata": {},
   "outputs": [
    {
     "data": {
      "text/plain": [
       "{'core0': {0: ('write', 0),\n",
       "  6: ('read', 8),\n",
       "  9: ('read', 8),\n",
       "  11: ('write', 2),\n",
       "  12: ('read', 1),\n",
       "  14: ('write', 1)},\n",
       " 'core1': {0: ('write', 17),\n",
       "  7: ('read', 11),\n",
       "  12: ('write', 19),\n",
       "  18: ('read', 20),\n",
       "  20: ('read', 13),\n",
       "  22: ('read', 15),\n",
       "  26: ('write', 20),\n",
       "  31: ('read', 17),\n",
       "  34: ('read', 18),\n",
       "  36: ('write', 18),\n",
       "  41: ('read', 15),\n",
       "  43: ('read', 17),\n",
       "  46: ('read', 12),\n",
       "  54: ('write', 19)}}"
      ]
     },
     "execution_count": 27,
     "metadata": {},
     "output_type": "execute_result"
    }
   ],
   "source": [
    "Pi(np.array([62]),H,0)"
   ]
  },
  {
   "cell_type": "code",
   "execution_count": 14,
   "id": "c305f25e-379f-4d58-9a7b-342217ed9afe",
   "metadata": {},
   "outputs": [
    {
     "name": "stdout",
     "output_type": "stream",
     "text": [
      "Help on method __call__ in module exploration.imgep.OptimizationPolicy:\n",
      "\n",
      "__call__(goal: numpy.ndarray, H: exploration.history.History, module: int) -> dict method of exploration.imgep.OptimizationPolicy.OptimizationPolicykNN instance\n",
      "    Call self as a function.\n",
      "\n"
     ]
    }
   ],
   "source": [
    "help(Pi.__call__)"
   ]
  },
  {
   "cell_type": "code",
   "execution_count": 34,
   "id": "086c4e3e-16ba-4743-b024-d8979646da7f",
   "metadata": {},
   "outputs": [
    {
     "data": {
      "text/plain": [
       "np.float64(63.0)"
      ]
     },
     "execution_count": 34,
     "metadata": {},
     "output_type": "execute_result"
    }
   ],
   "source": [
    "features[88]"
   ]
  },
  {
   "cell_type": "code",
   "execution_count": 28,
   "id": "53e3f0d7-23eb-494a-b568-4413f7ae21c1",
   "metadata": {},
   "outputs": [
    {
     "name": "stdout",
     "output_type": "stream",
     "text": [
      "[201, 201, 201, 201, 201, 201, 201, 201, 201, 201, 201, 201, 201, 201, 201, 201, 201, 201, 201]\n"
     ]
    }
   ],
   "source": [
    "print([len(t) for t in tab])"
   ]
  },
  {
   "cell_type": "code",
   "execution_count": 18,
   "id": "1b6a1a23-6489-4f77-b8d8-ee2fa4367519",
   "metadata": {},
   "outputs": [],
   "source": [
    "module = {'type':'vec_miss_ratios_detailled','core':'mutual','bank':0,'row':0}"
   ]
  },
  {
   "cell_type": "code",
   "execution_count": 19,
   "id": "223f1d28-c606-4964-a652-e792cbd9c19c",
   "metadata": {},
   "outputs": [
    {
     "data": {
      "text/plain": [
       "(201, 2, 4)"
      ]
     },
     "execution_count": 19,
     "metadata": {},
     "output_type": "execute_result"
    }
   ],
   "source": [
    "F.data2feature(H.memory_perf, module).shape"
   ]
  },
  {
   "cell_type": "code",
   "execution_count": 34,
   "id": "7eb54e66-1ff6-4ff6-b79e-8b24ec1ae8b3",
   "metadata": {},
   "outputs": [],
   "source": [
    "from simulator.sim3 import GlobalVar"
   ]
  },
  {
   "cell_type": "code",
   "execution_count": 12,
   "id": "fef5d7f9-8656-47c0-8434-b592a30a4493",
   "metadata": {},
   "outputs": [
    {
     "data": {
      "text/plain": [
       "0"
      ]
     },
     "execution_count": 12,
     "metadata": {},
     "output_type": "execute_result"
    }
   ],
   "source": [
    "GlobalVar.global_cycle"
   ]
  },
  {
   "cell_type": "raw",
   "id": "b907551c-441e-4c95-b8c7-97f7a960f2d0",
   "metadata": {
    "scrolled": true
   },
   "source": [
    "print(\"===================================================================\")\n",
    "print(\"1 core, 2 read cycles,same index, same tag, same bank, different rows, no dependency\")\n",
    "print(\"===================================================================\")\n",
    "# 1st RD => cache miss => DDR reads transaction \n",
    "# 2nd RD => cache miss => DDR reads transaction \n",
    "# Create instruction sequences\n",
    "inst0 = { 0: ('read', 0), 60: ('read', 20) }\n",
    "inst1 = {  }\n",
    "\n",
    "exp=Experiment()\n",
    "exp.load_instr(inst0, inst1)\n",
    "exp.simulate(200)"
   ]
  },
  {
   "cell_type": "code",
   "execution_count": 26,
   "id": "772e61c1-f676-4d0f-be56-c77fe5d304a6",
   "metadata": {},
   "outputs": [
    {
     "name": "stdout",
     "output_type": "stream",
     "text": [
      "===================================================================\n",
      "1 core, 2 read cycles,same index, same tag, same bank, different rows, no dependency\n",
      "===================================================================\n",
      "\n",
      "--- Simulation Stats ---\n",
      "{'core': 0, 'L1': {'level': 'L1', 'hits': 0, 'misses': 2, 'miss_rate': 1.0}, 'L2': {'level': 'L2', 'hits': 0, 'misses': 4, 'miss_rate': 1.0}}\n",
      "{'core': 1, 'L1': {'level': 'L1', 'hits': 0, 'misses': 2, 'miss_rate': 1.0}, 'L2': {'level': 'L2', 'hits': 0, 'misses': 4, 'miss_rate': 1.0}}\n"
     ]
    },
    {
     "data": {
      "text/plain": [
       "{'time_core0': 111,\n",
       " 'time_core1': 81,\n",
       " 'miss_ratios_detailled': array([[ 0.5, -0. , -0. , -0. ],\n",
       "        [ 0.5, -0. , -0. , -0. ]]),\n",
       " 'miss_ratios_global': np.float64(0.5),\n",
       " 'L1_miss_ratio_core0': 1.0,\n",
       " 'L1_miss_ratio_core1': 1.0,\n",
       " 'L2_miss_ratio': 1.0}"
      ]
     },
     "execution_count": 26,
     "metadata": {},
     "output_type": "execute_result"
    }
   ],
   "source": [
    "GlobalVar.clear_history()\n",
    "print(\"=============================================================================================================\")\n",
    "print(\"1 core, 2 read cycles,same index, same tag, same bank, different rows, no dependency\")\n",
    "print(\"=============================================================================================================\")\n",
    "# 1st RD => cache miss => DDR reads transaction \n",
    "# 2nd RD => cache miss => DDR reads transaction \n",
    "# Create instruction sequences\n",
    "inst0 = { 0: ('read', 0), 60: ('read', 20) }\n",
    "inst0 = {60: ('read', 20),  0: ('read', 0)}\n",
    "inst1 = {}\n",
    "exp=Experiment()\n",
    "exp.load_instr(inst0, inst0)\n",
    "exp.simulate(200)"
   ]
  },
  {
   "cell_type": "code",
   "execution_count": 35,
   "id": "18a1afb6-0509-4f4f-a8b0-3ee61f53f785",
   "metadata": {},
   "outputs": [
    {
     "name": "stdout",
     "output_type": "stream",
     "text": [
      "\n",
      "=== SHARED RESOURCE CONTENTION ANALYSIS ===\n",
      "Total contention events: 2\n",
      "L2 cache contention cycles: 2\n",
      "DDR memory contention cycles: 0\n",
      "\n",
      "=== DETAILED CONTENTION EVENTS ===\n",
      "Cycle 200: L2_CACHE_CONTENTION\n",
      "  Cores involved: [0, 1]\n",
      "  Details: {'set_indices': [0, 0, 0, 0], 'operations': ['read', 'read', 'read', 'read'], 'addresses': [0, 0, 0, 0]}\n",
      "\n",
      "Cycle 200: L2_CACHE_CONTENTION\n",
      "  Cores involved: [0, 1]\n",
      "  Details: {'set_indices': [5, 5, 5, 5], 'operations': ['read', 'read', 'read', 'read'], 'addresses': [20, 20, 20, 20]}\n",
      "\n"
     ]
    }
   ],
   "source": [
    "print_contention_analysis()"
   ]
  },
  {
   "cell_type": "code",
   "execution_count": 27,
   "id": "518a9335-6146-41d4-876f-23cdcdc82089",
   "metadata": {},
   "outputs": [
    {
     "data": {
      "text/plain": [
       "[{'cycle': 2,\n",
       "  'core_id': 1,\n",
       "  'addr': 14,\n",
       "  'operation': 'read',\n",
       "  'set_index': 3,\n",
       "  'way': -1,\n",
       "  'hit': False},\n",
       " {'cycle': 2,\n",
       "  'core_id': 1,\n",
       "  'addr': 14,\n",
       "  'operation': 'read',\n",
       "  'set_index': 3,\n",
       "  'way': -1,\n",
       "  'hit': False},\n",
       " {'cycle': 52,\n",
       "  'core_id': 1,\n",
       "  'addr': 12,\n",
       "  'operation': 'write',\n",
       "  'set_index': 3,\n",
       "  'way': -1,\n",
       "  'hit': False},\n",
       " {'cycle': 52,\n",
       "  'core_id': 1,\n",
       "  'addr': 12,\n",
       "  'operation': 'write',\n",
       "  'set_index': 3,\n",
       "  'way': 0,\n",
       "  'hit': True}]"
      ]
     },
     "execution_count": 27,
     "metadata": {},
     "output_type": "execute_result"
    }
   ],
   "source": [
    "GlobalVar.l2_access_log"
   ]
  },
  {
   "cell_type": "code",
   "execution_count": 23,
   "id": "9fcb4bb2-ff61-4b03-a138-e289bc3c2978",
   "metadata": {},
   "outputs": [],
   "source": [
    "def print_cache_states_history():\n",
    "    \"\"\"Print the cache states history in a readable format\"\"\"\n",
    "    print(\"\\n=== CACHE STATES HISTORY ===\")\n",
    "    for state in GlobalVar.cache_states_history:\n",
    "        print(f\"\\nCycle {state['cycle']}: Core {state['core_id']} {state['level']} {state['operation'].upper()} @ {state['address']}\")\n",
    "        \n",
    "        for set_state in state['sets']:\n",
    "            set_index = set_state['set_index']\n",
    "            #print(f\"  Set {set_index}:\")\n",
    "            \n",
    "            for line_state in set_state['lines']:\n",
    "                status = \"INVALID\"\n",
    "                if line_state['valid']:\n",
    "                    status = \"CLEAN\" if not line_state['dirty'] else \"DIRTY\"\n",
    "                \n",
    "                tag_info = f\"Tag: {line_state['tag']}\" if line_state['tag'] is not None else \"Tag: None\"\n",
    "                #print(f\"    Line {line_state['line_index']}: {status} | {tag_info}\")\n",
    "\n",
    "def get_cache_states_summary():\n",
    "    \"\"\"Get a summary of cache states history\"\"\"\n",
    "    summary = []\n",
    "    for state in GlobalVar.cache_states_history:\n",
    "        summary.append({\n",
    "            'cycle': state['cycle'],\n",
    "            'core_id': state['core_id'], \n",
    "            'level': state['level'],\n",
    "            'operation': state['operation'],\n",
    "            'address': state['address'],\n",
    "            'total_sets': len(state['sets']),\n",
    "            'total_lines': sum(len(set_state['lines']) for set_state in state['sets'])\n",
    "        })\n",
    "    return summary"
   ]
  },
  {
   "cell_type": "code",
   "execution_count": 13,
   "id": "0cc71bc1-6d35-4897-af8c-2e525e196bdf",
   "metadata": {},
   "outputs": [
    {
     "ename": "NameError",
     "evalue": "name 'print_cache_states_history' is not defined",
     "output_type": "error",
     "traceback": [
      "\u001b[0;31m---------------------------------------------------------------------------\u001b[0m",
      "\u001b[0;31mNameError\u001b[0m                                 Traceback (most recent call last)",
      "Cell \u001b[0;32mIn[13], line 2\u001b[0m\n\u001b[1;32m      1\u001b[0m \u001b[38;5;66;03m# Print full history\u001b[39;00m\n\u001b[0;32m----> 2\u001b[0m \u001b[43mprint_cache_states_history\u001b[49m()\n\u001b[1;32m      4\u001b[0m \u001b[38;5;66;03m## Get summary\u001b[39;00m\n\u001b[1;32m      5\u001b[0m \u001b[38;5;66;03m#summary = get_cache_states_summary()\u001b[39;00m\n\u001b[1;32m      6\u001b[0m \u001b[38;5;66;03m#for entry in summary:\u001b[39;00m\n\u001b[0;32m   (...)\u001b[0m\n\u001b[1;32m     10\u001b[0m \u001b[38;5;66;03m#for state in GlobalVar.cache_states_history:\u001b[39;00m\n\u001b[1;32m     11\u001b[0m \u001b[38;5;66;03m#    print(f\"Cycle {state['cycle']} - Operation: {state['operation']}\")\u001b[39;00m\n",
      "\u001b[0;31mNameError\u001b[0m: name 'print_cache_states_history' is not defined"
     ]
    }
   ],
   "source": [
    "# Print full history\n",
    "print_cache_states_history()\n",
    "\n",
    "## Get summary\n",
    "#summary = get_cache_states_summary()\n",
    "#for entry in summary:\n",
    "#    print(f\"Cycle {entry['cycle']}: Core {entry['core_id']} {entry['level']} {entry['operation']} @ {entry['address']}\")\n",
    "#\n",
    "## Access raw data\n",
    "#for state in GlobalVar.cache_states_history:\n",
    "#    print(f\"Cycle {state['cycle']} - Operation: {state['operation']}\")"
   ]
  },
  {
   "cell_type": "code",
   "execution_count": 31,
   "id": "89283921-addd-460e-8d71-c3f3cd884ffe",
   "metadata": {},
   "outputs": [],
   "source": [
    "GlobalVar.clear_history()"
   ]
  },
  {
   "cell_type": "code",
   "execution_count": null,
   "id": "49edbd07-c1ad-40ca-8b1a-a7d7c64f0022",
   "metadata": {},
   "outputs": [],
   "source": []
  },
  {
   "cell_type": "code",
   "execution_count": 25,
   "id": "5afa38e2-a57c-40e7-8a69-9364820eefbb",
   "metadata": {},
   "outputs": [],
   "source": [
    "# Helper functions to analyze state changes\n",
    "def print_state_changes():\n",
    "    \"\"\"Print all state changes in a readable format\"\"\"\n",
    "    print(\"\\n=== CACHE STATE CHANGES ===\")\n",
    "    \n",
    "    if not GlobalVar.cache_state_changes:\n",
    "        print(\"No state changes detected.\")\n",
    "        return\n",
    "    \n",
    "    for change in GlobalVar.cache_state_changes:\n",
    "        print(f\"\\nCycle {change['cycle']}: Core {change['core_id']} {change['level']} {change['operation'].upper()} @ {change['address']}\")\n",
    "        print(f\"  Set {change['set_index']}, Line {change['line_index']}:\")\n",
    "        print(f\"    Valid: {change['previous_valid']} → {change['current_valid']}\")\n",
    "        print(f\"    Dirty: {change['previous_dirty']} → {change['current_dirty']}\")\n",
    "        print(f\"    Tag: {change['previous_tag']} → {change['current_tag']}\")\n",
    "        print(f\"    Changes: {', '.join([f'{c[0]}: {c[1]}' for c in change['changes']])}\")\n",
    "\n",
    "def get_valid_transitions():\n",
    "    \"\"\"Get all valid bit transitions\"\"\"\n",
    "    valid_changes = [c for c in GlobalVar.cache_state_changes \n",
    "                    if any(change[0] == 'valid' for change in c['changes'])]\n",
    "    \n",
    "    transitions = {}\n",
    "    for change in valid_changes:\n",
    "        for ch_type, ch_desc in change['changes']:\n",
    "            if ch_type == 'valid':\n",
    "                if ch_desc not in transitions:\n",
    "                    transitions[ch_desc] = 0\n",
    "                transitions[ch_desc] += 1\n",
    "    \n",
    "    return transitions\n",
    "\n",
    "def get_dirty_transitions():\n",
    "    \"\"\"Get all dirty bit transitions\"\"\"\n",
    "    dirty_changes = [c for c in GlobalVar.cache_state_changes \n",
    "                    if any(change[0] == 'dirty' for change in c['changes'])]\n",
    "    \n",
    "    transitions = {}\n",
    "    for change in dirty_changes:\n",
    "        for ch_type, ch_desc in change['changes']:\n",
    "            if ch_type == 'dirty':\n",
    "                if ch_desc not in transitions:\n",
    "                    transitions[ch_desc] = 0\n",
    "                transitions[ch_desc] += 1\n",
    "    \n",
    "    return transitions\n",
    "\n",
    "def get_state_change_summary():\n",
    "    \"\"\"Get a summary of all state changes\"\"\"\n",
    "    summary = {\n",
    "        'total_changes': len(GlobalVar.cache_state_changes),\n",
    "        'valid_transitions': get_valid_transitions(),\n",
    "        'dirty_transitions': get_dirty_transitions(),\n",
    "        'changes_by_level': {},\n",
    "        'changes_by_operation': {},\n",
    "        'changes_by_core': {}\n",
    "    }\n",
    "    \n",
    "    # Group by level\n",
    "    for change in GlobalVar.cache_state_changes:\n",
    "        level = change['level']\n",
    "        if level not in summary['changes_by_level']:\n",
    "            summary['changes_by_level'][level] = 0\n",
    "        summary['changes_by_level'][level] += 1\n",
    "    \n",
    "    # Group by operation\n",
    "    for change in GlobalVar.cache_state_changes:\n",
    "        op = change['operation']\n",
    "        if op not in summary['changes_by_operation']:\n",
    "            summary['changes_by_operation'][op] = 0\n",
    "        summary['changes_by_operation'][op] += 1\n",
    "    \n",
    "    # Group by core\n",
    "    for change in GlobalVar.cache_state_changes:\n",
    "        core = change['core_id']\n",
    "        if core not in summary['changes_by_core']:\n",
    "            summary['changes_by_core'][core] = 0\n",
    "        summary['changes_by_core'][core] += 1\n",
    "    \n",
    "    return summary\n",
    "\n",
    "def print_state_change_summary():\n",
    "    \"\"\"Print a summary of state changes\"\"\"\n",
    "    summary = get_state_change_summary()\n",
    "    \n",
    "    print(\"\\n=== STATE CHANGE SUMMARY ===\")\n",
    "    print(f\"Total state changes: {summary['total_changes']}\")\n",
    "    \n",
    "    print(\"\\nBy Cache Level:\")\n",
    "    for level, count in summary['changes_by_level'].items():\n",
    "        print(f\"  {level}: {count} changes\")\n",
    "    \n",
    "    print(\"\\nBy Operation:\")\n",
    "    for op, count in summary['changes_by_operation'].items():\n",
    "        print(f\"  {op}: {count} changes\")\n",
    "    \n",
    "    print(\"\\nBy Core:\")\n",
    "    for core, count in summary['changes_by_core'].items():\n",
    "        print(f\"  Core {core}: {count} changes\")\n",
    "    \n",
    "    print(\"\\nValid Bit Transitions:\")\n",
    "    for transition, count in summary['valid_transitions'].items():\n",
    "        print(f\"  {transition}: {count}\")\n",
    "    \n",
    "    print(\"\\nDirty Bit Transitions:\")\n",
    "    for transition, count in summary['dirty_transitions'].items():\n",
    "        print(f\"  {transition}: {count}\")\n"
   ]
  },
  {
   "cell_type": "code",
   "execution_count": null,
   "id": "3fe28222-b805-40d7-aace-13dd14003962",
   "metadata": {},
   "outputs": [],
   "source": []
  },
  {
   "cell_type": "code",
   "execution_count": 29,
   "id": "247e7c17-099d-4630-b4f4-96ed0db44ee9",
   "metadata": {},
   "outputs": [],
   "source": [
    "def example_usage():\n",
    "    \"\"\"Example of how to use the state change tracking\"\"\"\n",
    "    # Run your simulation...\n",
    "    \n",
    "    # After simulation, analyze changes:\n",
    "    print_state_changes()  # Print all individual changes\n",
    "    print_state_change_summary()  # Print summary\n",
    "    \n",
    "    # Get specific transitions:\n",
    "    valid_transitions = get_valid_transitions()\n",
    "    dirty_transitions = get_dirty_transitions()\n",
    "    \n",
    "    print(f\"\\nValid→Invalid transitions: {valid_transitions.get('VALID→INVALID', 0)}\")\n",
    "    print(f\"Invalid→Valid transitions: {valid_transitions.get('INVALID→VALID', 0)}\")\n",
    "    print(f\"Clean→Dirty transitions: {dirty_transitions.get('CLEAN→DIRTY', 0)}\")\n",
    "    print(f\"Dirty→Clean transitions: {dirty_transitions.get('DIRTY→CLEAN', 0)}\")\n",
    "    \n",
    "    # Access raw change data:\n",
    "    for change in GlobalVar.cache_state_changes:\n",
    "        if change['level'] == 'L2':  # Filter by level\n",
    "            print(f\"L2 Change: {change}\")"
   ]
  },
  {
   "cell_type": "code",
   "execution_count": 30,
   "id": "ad28d3ee-77a8-454f-b5e8-7fc4ae088f81",
   "metadata": {},
   "outputs": [
    {
     "name": "stdout",
     "output_type": "stream",
     "text": [
      "\n",
      "=== CACHE STATE CHANGES ===\n",
      "\n",
      "Cycle 15: Core 0 L1 READ @ 2\n",
      "  Set 0, Line 0:\n",
      "    Valid: False → True\n",
      "    Dirty: False → True\n",
      "    Tag: None → 0\n",
      "    Changes: valid: INVALID→VALID, dirty: CLEAN→DIRTY, tag: None→0\n",
      "\n",
      "Cycle 31: Core 0 L1 READ @ 1\n",
      "  Set 0, Line 0:\n",
      "    Valid: True → True\n",
      "    Dirty: True → False\n",
      "    Tag: 0 → 0\n",
      "    Changes: dirty: DIRTY→CLEAN\n",
      "\n",
      "Cycle 31: Core 0 L1 READ @ 1\n",
      "  Set 0, Line 1:\n",
      "    Valid: False → True\n",
      "    Dirty: False → True\n",
      "    Tag: None → 1\n",
      "    Changes: valid: INVALID→VALID, dirty: CLEAN→DIRTY, tag: None→1\n",
      "\n",
      "Cycle 31: Core 0 L1 READ @ 1\n",
      "  Set 3, Line 0:\n",
      "    Valid: False → True\n",
      "    Dirty: False → True\n",
      "    Tag: None → 0\n",
      "    Changes: valid: INVALID→VALID, dirty: CLEAN→DIRTY, tag: None→0\n",
      "\n",
      "Cycle 39: Core 0 L1 READ @ 6\n",
      "  Set 0, Line 0:\n",
      "    Valid: True → True\n",
      "    Dirty: False → True\n",
      "    Tag: 0 → 0\n",
      "    Changes: dirty: CLEAN→DIRTY\n",
      "\n",
      "Cycle 39: Core anycore L2 READ @ 6\n",
      "  Set 0, Line 0:\n",
      "    Valid: False → True\n",
      "    Dirty: False → True\n",
      "    Tag: None → 0\n",
      "    Changes: valid: INVALID→VALID, dirty: CLEAN→DIRTY, tag: None→0\n",
      "\n",
      "Cycle 56: Core 0 L1 READ @ 9\n",
      "  Set 2, Line 0:\n",
      "    Valid: False → True\n",
      "    Dirty: False → True\n",
      "    Tag: None → 0\n",
      "    Changes: valid: INVALID→VALID, dirty: CLEAN→DIRTY, tag: None→0\n",
      "\n",
      "Cycle 26: Core 1 L1 READ @ 1\n",
      "  Set 0, Line 0:\n",
      "    Valid: False → True\n",
      "    Dirty: False → True\n",
      "    Tag: None → 0\n",
      "    Changes: valid: INVALID→VALID, dirty: CLEAN→DIRTY, tag: None→0\n",
      "\n",
      "Cycle 15: Core 0 L1 READ @ 2\n",
      "  Set 0, Line 0:\n",
      "    Valid: False → True\n",
      "    Dirty: False → True\n",
      "    Tag: None → 0\n",
      "    Changes: valid: INVALID→VALID, dirty: CLEAN→DIRTY, tag: None→0\n",
      "\n",
      "Cycle 26: Core 1 L1 READ @ 1\n",
      "  Set 0, Line 0:\n",
      "    Valid: False → True\n",
      "    Dirty: False → True\n",
      "    Tag: None → 0\n",
      "    Changes: valid: INVALID→VALID, dirty: CLEAN→DIRTY, tag: None→0\n",
      "\n",
      "Cycle 31: Core 0 L1 READ @ 1\n",
      "  Set 0, Line 0:\n",
      "    Valid: True → True\n",
      "    Dirty: True → False\n",
      "    Tag: 0 → 0\n",
      "    Changes: dirty: DIRTY→CLEAN\n",
      "\n",
      "Cycle 31: Core 0 L1 READ @ 1\n",
      "  Set 0, Line 1:\n",
      "    Valid: False → True\n",
      "    Dirty: False → True\n",
      "    Tag: None → 1\n",
      "    Changes: valid: INVALID→VALID, dirty: CLEAN→DIRTY, tag: None→1\n",
      "\n",
      "Cycle 31: Core 0 L1 READ @ 1\n",
      "  Set 3, Line 0:\n",
      "    Valid: False → True\n",
      "    Dirty: False → True\n",
      "    Tag: None → 0\n",
      "    Changes: valid: INVALID→VALID, dirty: CLEAN→DIRTY, tag: None→0\n",
      "\n",
      "Cycle 31: Core 1 L1 READ @ 0\n",
      "  Set 1, Line 0:\n",
      "    Valid: False → True\n",
      "    Dirty: False → True\n",
      "    Tag: None → 0\n",
      "    Changes: valid: INVALID→VALID, dirty: CLEAN→DIRTY, tag: None→0\n",
      "\n",
      "Cycle 37: Core 1 L1 READ @ 11\n",
      "  Set 1, Line 0:\n",
      "    Valid: True → True\n",
      "    Dirty: True → False\n",
      "    Tag: 0 → 0\n",
      "    Changes: dirty: DIRTY→CLEAN\n",
      "\n",
      "Cycle 37: Core anycore L2 READ @ 11\n",
      "  Set 0, Line 0:\n",
      "    Valid: False → True\n",
      "    Dirty: False → True\n",
      "    Tag: None → 0\n",
      "    Changes: valid: INVALID→VALID, dirty: CLEAN→DIRTY, tag: None→0\n",
      "\n",
      "Cycle 37: Core anycore L2 READ @ 11\n",
      "  Set 1, Line 0:\n",
      "    Valid: False → True\n",
      "    Dirty: False → True\n",
      "    Tag: None → 0\n",
      "    Changes: valid: INVALID→VALID, dirty: CLEAN→DIRTY, tag: None→0\n",
      "\n",
      "Cycle 39: Core 0 L1 READ @ 6\n",
      "  Set 0, Line 0:\n",
      "    Valid: True → True\n",
      "    Dirty: False → True\n",
      "    Tag: 0 → 0\n",
      "    Changes: dirty: CLEAN→DIRTY\n",
      "\n",
      "Cycle 45: Core 1 L1 READ @ 10\n",
      "  Set 0, Line 1:\n",
      "    Valid: False → True\n",
      "    Dirty: False → True\n",
      "    Tag: None → 1\n",
      "    Changes: valid: INVALID→VALID, dirty: CLEAN→DIRTY, tag: None→1\n",
      "\n",
      "Cycle 45: Core anycore L2 READ @ 10\n",
      "  Set 1, Line 0:\n",
      "    Valid: True → True\n",
      "    Dirty: True → False\n",
      "    Tag: 0 → 0\n",
      "    Changes: dirty: DIRTY→CLEAN\n",
      "\n",
      "Cycle 53: Core anycore L2 READ @ 15\n",
      "  Set 2, Line 0:\n",
      "    Valid: False → True\n",
      "    Dirty: False → False\n",
      "    Tag: None → 0\n",
      "    Changes: valid: INVALID→VALID, tag: None→0\n",
      "\n",
      "Cycle 56: Core 0 L1 READ @ 9\n",
      "  Set 1, Line 0:\n",
      "    Valid: False → True\n",
      "    Dirty: False → False\n",
      "    Tag: None → 0\n",
      "    Changes: valid: INVALID→VALID, tag: None→0\n",
      "\n",
      "Cycle 56: Core 0 L1 READ @ 9\n",
      "  Set 2, Line 0:\n",
      "    Valid: False → True\n",
      "    Dirty: False → True\n",
      "    Tag: None → 0\n",
      "    Changes: valid: INVALID→VALID, dirty: CLEAN→DIRTY, tag: None→0\n",
      "\n",
      "=== STATE CHANGE SUMMARY ===\n",
      "Total state changes: 23\n",
      "\n",
      "By Cache Level:\n",
      "  L1: 18 changes\n",
      "  L2: 5 changes\n",
      "\n",
      "By Operation:\n",
      "  read: 23 changes\n",
      "\n",
      "By Core:\n",
      "  Core 0: 13 changes\n",
      "  Core anycore: 5 changes\n",
      "  Core 1: 5 changes\n",
      "\n",
      "Valid Bit Transitions:\n",
      "  INVALID→VALID: 17\n",
      "\n",
      "Dirty Bit Transitions:\n",
      "  CLEAN→DIRTY: 17\n",
      "  DIRTY→CLEAN: 4\n",
      "\n",
      "Valid→Invalid transitions: 0\n",
      "Invalid→Valid transitions: 17\n",
      "Clean→Dirty transitions: 17\n",
      "Dirty→Clean transitions: 4\n",
      "L2 Change: {'cycle': 39, 'core_id': 'anycore', 'level': 'L2', 'operation': 'read', 'address': 6, 'set_index': 0, 'line_index': 0, 'previous_valid': False, 'current_valid': True, 'previous_dirty': False, 'current_dirty': True, 'previous_tag': None, 'current_tag': 0, 'changes': [('valid', 'INVALID→VALID'), ('dirty', 'CLEAN→DIRTY'), ('tag', 'None→0')]}\n",
      "L2 Change: {'cycle': 37, 'core_id': 'anycore', 'level': 'L2', 'operation': 'read', 'address': 11, 'set_index': 0, 'line_index': 0, 'previous_valid': False, 'current_valid': True, 'previous_dirty': False, 'current_dirty': True, 'previous_tag': None, 'current_tag': 0, 'changes': [('valid', 'INVALID→VALID'), ('dirty', 'CLEAN→DIRTY'), ('tag', 'None→0')]}\n",
      "L2 Change: {'cycle': 37, 'core_id': 'anycore', 'level': 'L2', 'operation': 'read', 'address': 11, 'set_index': 1, 'line_index': 0, 'previous_valid': False, 'current_valid': True, 'previous_dirty': False, 'current_dirty': True, 'previous_tag': None, 'current_tag': 0, 'changes': [('valid', 'INVALID→VALID'), ('dirty', 'CLEAN→DIRTY'), ('tag', 'None→0')]}\n",
      "L2 Change: {'cycle': 45, 'core_id': 'anycore', 'level': 'L2', 'operation': 'read', 'address': 10, 'set_index': 1, 'line_index': 0, 'previous_valid': True, 'current_valid': True, 'previous_dirty': True, 'current_dirty': False, 'previous_tag': 0, 'current_tag': 0, 'changes': [('dirty', 'DIRTY→CLEAN')]}\n",
      "L2 Change: {'cycle': 53, 'core_id': 'anycore', 'level': 'L2', 'operation': 'read', 'address': 15, 'set_index': 2, 'line_index': 0, 'previous_valid': False, 'current_valid': True, 'previous_dirty': False, 'current_dirty': False, 'previous_tag': None, 'current_tag': 0, 'changes': [('valid', 'INVALID→VALID'), ('tag', 'None→0')]}\n"
     ]
    }
   ],
   "source": [
    "example_usage()"
   ]
  },
  {
   "cell_type": "code",
   "execution_count": 19,
   "id": "adee91ff-4864-4511-8852-e33ad22302c7",
   "metadata": {},
   "outputs": [],
   "source": []
  },
  {
   "cell_type": "code",
   "execution_count": null,
   "id": "5a8e4c4c-1434-42b1-be7e-86f12e576328",
   "metadata": {},
   "outputs": [],
   "source": []
  },
  {
   "cell_type": "code",
   "execution_count": null,
   "id": "f02e7ec4-fa1e-40d5-8048-0e4d9c45218c",
   "metadata": {},
   "outputs": [],
   "source": []
  },
  {
   "cell_type": "code",
   "execution_count": null,
   "id": "4af5fe21-6ecc-43f0-a833-dd58c68d603d",
   "metadata": {},
   "outputs": [],
   "source": []
  },
  {
   "cell_type": "code",
   "execution_count": null,
   "id": "567b0a19-2e7c-4195-be23-0682d912cbd7",
   "metadata": {},
   "outputs": [],
   "source": []
  },
  {
   "cell_type": "code",
   "execution_count": null,
   "id": "0a1d03c2-621f-4e15-9b25-625f03a39dcb",
   "metadata": {},
   "outputs": [],
   "source": []
  },
  {
   "cell_type": "code",
   "execution_count": 54,
   "id": "ffffff5e-6154-4ae8-9220-d80e82540ab6",
   "metadata": {},
   "outputs": [
    {
     "data": {
      "text/plain": [
       "array([[ 1., -0.,  1., -0.],\n",
       "       [-0.,  1., -0.,  1.]])"
      ]
     },
     "execution_count": 54,
     "metadata": {},
     "output_type": "execute_result"
    }
   ],
   "source": [
    "exp.ratios_tab"
   ]
  },
  {
   "cell_type": "code",
   "execution_count": 12,
   "id": "b14c8be5-ce15-41cb-8c2e-743bdf17a5f9",
   "metadata": {},
   "outputs": [
    {
     "data": {
      "text/plain": [
       "4"
      ]
     },
     "execution_count": 12,
     "metadata": {},
     "output_type": "execute_result"
    }
   ],
   "source": [
    "len(exp.ddr_stats['row'])"
   ]
  },
  {
   "cell_type": "code",
   "execution_count": 37,
   "id": "c62803a6-2a1b-470e-a0a4-68152b6963e2",
   "metadata": {},
   "outputs": [
    {
     "data": {
      "text/plain": [
       "np.float64(1.0)"
      ]
     },
     "execution_count": 37,
     "metadata": {},
     "output_type": "execute_result"
    }
   ],
   "source": [
    "exp.miss_ratio_global"
   ]
  },
  {
   "cell_type": "code",
   "execution_count": 13,
   "id": "9eaf46ca-2c51-4012-a4c6-c0c6b0c7638a",
   "metadata": {},
   "outputs": [],
   "source": [
    "import numpy as np"
   ]
  },
  {
   "cell_type": "code",
   "execution_count": 14,
   "id": "87e383eb-8fe4-4e6a-bcdf-e3a698565e52",
   "metadata": {},
   "outputs": [],
   "source": [
    "hits = np.zeros(exp.num_banks)\n",
    "miss = np.zeros(exp.num_banks)\n",
    "hits_tab = np.zeros((exp.num_rows,exp.num_banks))\n",
    "miss_tab = np.zeros((exp.num_rows,exp.num_banks))"
   ]
  },
  {
   "cell_type": "code",
   "execution_count": 15,
   "id": "224d8a64-cc9c-4795-95f4-e9f0925c690f",
   "metadata": {},
   "outputs": [
    {
     "data": {
      "text/plain": [
       "{'row': [0, 0, 1, 1],\n",
       " 'bank': [0, 2, 3, 1],\n",
       " 'status': ['ROW MISS', 'ROW MISS', 'ROW MISS', 'ROW MISS'],\n",
       " 'core': [1, 1, 1, 1]}"
      ]
     },
     "execution_count": 15,
     "metadata": {},
     "output_type": "execute_result"
    }
   ],
   "source": [
    "exp.ddr_stats"
   ]
  },
  {
   "cell_type": "code",
   "execution_count": 50,
   "id": "e429d2a4-85d2-4c18-aa9a-e8e74e31f1cc",
   "metadata": {},
   "outputs": [],
   "source": [
    "for j in range(len(exp.ddr_stats['row'])):\n",
    "    if exp.ddr_stats['status'][j]=='ROW MISS':\n",
    "        miss[exp.ddr_stats['bank'][j]] +=1\n",
    "        miss_tab[exp.ddr_stats['row'][j],exp.ddr_stats['bank'][j]] +=1\n",
    "    else:\n",
    "        hits[exp.ddr_stats['bank']] +=1\n",
    "        hits_tab[exp.ddr_stats['row'][j],exp.ddr_stats['bank'][j]] +=1"
   ]
  },
  {
   "cell_type": "code",
   "execution_count": 55,
   "id": "b87971c2-ead2-421b-aed2-2549b9e6c721",
   "metadata": {},
   "outputs": [
    {
     "data": {
      "text/plain": [
       "{'core0': [0, 10, 60], 'core1': [3, 50, 54, 15, 45, 95, 112]}"
      ]
     },
     "execution_count": 55,
     "metadata": {},
     "output_type": "execute_result"
    }
   ],
   "source": [
    "exp.time_values"
   ]
  },
  {
   "cell_type": "code",
   "execution_count": 44,
   "id": "f74e7583-fe6b-4b0c-aeca-5b2501a40b78",
   "metadata": {},
   "outputs": [],
   "source": [
    "l1_conf = {'size': 32, 'line_size': 4, 'assoc': 2}\n",
    "l2_conf = {'size': 1024, 'line_size': 4, 'assoc': 16}\n",
    "# Create Core-specific Multi-Level Caches, connected to the shared L2\n",
    "mem_core0 = MultiLevelCache(0, l1_conf, exp.mem_core0.l1.lower)"
   ]
  },
  {
   "cell_type": "code",
   "execution_count": 45,
   "id": "a49d2893-0ac3-4168-9133-c085b7a32b95",
   "metadata": {},
   "outputs": [
    {
     "name": "stdout",
     "output_type": "stream",
     "text": [
      "0\n",
      "0\n"
     ]
    }
   ],
   "source": [
    "print(mem_core0.l1._index(0))\n",
    "print(mem_core0.l1._index(17))"
   ]
  },
  {
   "cell_type": "code",
   "execution_count": 46,
   "id": "38a9148f-bd7b-442d-93dd-ebbedc522754",
   "metadata": {},
   "outputs": [
    {
     "name": "stdout",
     "output_type": "stream",
     "text": [
      "0\n",
      "1\n"
     ]
    }
   ],
   "source": [
    "print(mem_core0.l1._tag(0))\n",
    "print(mem_core0.l1._tag(17))"
   ]
  },
  {
   "cell_type": "code",
   "execution_count": 28,
   "id": "9e33b62f-006d-4c4d-aa74-3e84610aa70c",
   "metadata": {},
   "outputs": [],
   "source": [
    "def print_cache_states_history(line_idx:int, set_idx:int):\n",
    "    \"\"\"Print the cache states history in a readable format\"\"\"\n",
    "    print(\"\\n=== CACHE STATES HISTORY ===\")\n",
    "    for state in GlobalVar.cache_states_history:\n",
    "        \n",
    "        print(f\"\\nCycle {state['cycle']}: Core {state['core_id']} {state['level']} {state['operation'].upper()} @ {state['address']}\")\n",
    "        \n",
    "        for set_state in state['sets']:\n",
    "            if set_state['set_index']!=set_idx:\n",
    "                #print(set_state)\n",
    "                continue\n",
    "            set_index = set_state['set_index']\n",
    "            print(f\"  Set {set_index}:\")\n",
    "            \n",
    "            for line_state in set_state['lines']:\n",
    "                if line_state['line_index']!=line_idx:\n",
    "                    continue\n",
    "                status = \"INVALID\"\n",
    "                if line_state['valid']:\n",
    "                    status = \"CLEAN\" if not line_state['dirty'] else \"DIRTY\"\n",
    "                \n",
    "                tag_info = f\"Tag: {line_state['tag']}\" if line_state['tag'] is not None else \"Tag: None\"\n",
    "                print(f\"    Line {line_state['line_index']}: {status} | {tag_info}\")"
   ]
  },
  {
   "cell_type": "code",
   "execution_count": 29,
   "id": "1953a9fc-2196-4064-9858-bfc302c4c5a2",
   "metadata": {},
   "outputs": [
    {
     "name": "stdout",
     "output_type": "stream",
     "text": [
      "\n",
      "=== CACHE STATES HISTORY ===\n",
      "\n",
      "Cycle 26: Core 0 L1 READ @ 16\n",
      "  Set 0:\n",
      "    Line 0: INVALID | Tag: None\n",
      "\n",
      "Cycle 26: Core anycore L2 READ @ 16\n",
      "  Set 0:\n",
      "    Line 0: INVALID | Tag: None\n",
      "\n",
      "Cycle 54: Core 0 L1 READ @ 8\n",
      "  Set 0:\n",
      "    Line 0: INVALID | Tag: None\n",
      "\n",
      "Cycle 54: Core anycore L2 READ @ 8\n",
      "  Set 0:\n",
      "    Line 0: INVALID | Tag: None\n",
      "\n",
      "Cycle 18: Core 1 L1 READ @ 9\n",
      "  Set 0:\n",
      "    Line 0: DIRTY | Tag: 1\n",
      "\n",
      "Cycle 18: Core anycore L2 READ @ 9\n",
      "  Set 0:\n",
      "    Line 0: INVALID | Tag: None\n",
      "\n",
      "Cycle 39: Core 1 L1 READ @ 11\n",
      "  Set 0:\n",
      "    Line 0: DIRTY | Tag: 1\n",
      "\n",
      "Cycle 39: Core anycore L2 READ @ 11\n",
      "  Set 0:\n",
      "    Line 0: INVALID | Tag: None\n",
      "\n",
      "Cycle 48: Core 1 L1 READ @ 2\n",
      "  Set 0:\n",
      "    Line 0: DIRTY | Tag: 1\n",
      "\n",
      "Cycle 48: Core anycore L2 READ @ 2\n",
      "  Set 0:\n",
      "    Line 0: INVALID | Tag: None\n",
      "\n",
      "Cycle 18: Core 1 L1 READ @ 9\n",
      "  Set 0:\n",
      "    Line 0: DIRTY | Tag: 1\n",
      "\n",
      "Cycle 18: Core anycore L2 READ @ 9\n",
      "  Set 0:\n",
      "    Line 0: INVALID | Tag: None\n",
      "\n",
      "Cycle 26: Core 0 L1 READ @ 16\n",
      "  Set 0:\n",
      "    Line 0: INVALID | Tag: None\n",
      "\n",
      "Cycle 26: Core anycore L2 READ @ 16\n",
      "  Set 0:\n",
      "    Line 0: INVALID | Tag: None\n",
      "\n",
      "Cycle 39: Core 1 L1 READ @ 11\n",
      "  Set 0:\n",
      "    Line 0: DIRTY | Tag: 1\n",
      "\n",
      "Cycle 39: Core anycore L2 READ @ 11\n",
      "  Set 0:\n",
      "    Line 0: INVALID | Tag: None\n",
      "\n",
      "Cycle 48: Core 1 L1 READ @ 2\n",
      "  Set 0:\n",
      "    Line 0: DIRTY | Tag: 1\n",
      "\n",
      "Cycle 48: Core anycore L2 READ @ 2\n",
      "  Set 0:\n",
      "    Line 0: INVALID | Tag: None\n",
      "\n",
      "Cycle 54: Core 0 L1 READ @ 8\n",
      "  Set 0:\n",
      "    Line 0: INVALID | Tag: None\n",
      "\n",
      "Cycle 54: Core anycore L2 READ @ 8\n",
      "  Set 0:\n",
      "    Line 0: INVALID | Tag: None\n"
     ]
    }
   ],
   "source": [
    "print_cache_states_history(0,0)"
   ]
  },
  {
   "cell_type": "code",
   "execution_count": null,
   "id": "e30a0aac-0f77-4c5c-b6b6-5608e24d8709",
   "metadata": {},
   "outputs": [],
   "source": []
  }
 ],
 "metadata": {
  "kernelspec": {
   "display_name": "Python 3 (ipykernel)",
   "language": "python",
   "name": "python3"
  },
  "language_info": {
   "codemirror_mode": {
    "name": "ipython",
    "version": 3
   },
   "file_extension": ".py",
   "mimetype": "text/x-python",
   "name": "python",
   "nbconvert_exporter": "python",
   "pygments_lexer": "ipython3",
   "version": "3.10.12"
  }
 },
 "nbformat": 4,
 "nbformat_minor": 5
}
