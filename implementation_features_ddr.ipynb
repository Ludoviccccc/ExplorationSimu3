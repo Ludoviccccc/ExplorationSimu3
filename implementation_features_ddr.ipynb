{
 "cells": [
  {
   "cell_type": "code",
   "execution_count": 1,
   "id": "86112552-7488-481e-8d1f-c6a781f08259",
   "metadata": {},
   "outputs": [],
   "source": [
    "from simulator.sim3 import *\n",
    "from exploration.env.func import Experiment, Env\n",
    "from exploration.random.func import RANDOM\n",
    "import numpy as np\n",
    "from codegeneration import generate_instruction_sequence\n",
    "from simulator.sim3 import print_contention_analysis\n",
    "import pandas as pd\n",
    "from exploration.history import History"
   ]
  },
  {
   "cell_type": "code",
   "execution_count": 2,
   "id": "7cfc94cf-33a9-4f23-a98c-62f4b015c5f0",
   "metadata": {},
   "outputs": [],
   "source": [
    "def shared_ressource2vec(in_,E):\n",
    "    count_banks = np.histogram(in_['details']['banks'],bins = range(E.num_banks+1))[0]/len(in_['details']['banks'])\n",
    "    count_rows = np.histogram(in_['details']['rows'],bins = range(E.num_rows+1))[0]/len(in_['details']['banks'])\n",
    "    ratios_core = np.array([sum(np.array(in_['initiators'])==1)/len(in_['initiators'])])\n",
    "    conflicts = np.array([1*in_['details']['bank_conflicts'],1*in_['details']['row_conflicts']])\n",
    "    out = np.concatenate((ratios_core,count_banks,count_rows,conflicts),axis=0)\n",
    "    dict_ = {'ratio_cores':ratios_core,\n",
    "             'count_banks':count_banks,\n",
    "             'count_rows':count_rows,\n",
    "             'conflicts_bank_row':conflicts}\n",
    "    return out,dict_"
   ]
  },
  {
   "cell_type": "code",
   "execution_count": 3,
   "id": "99a80a53-dc9f-4c6e-9e61-405277bf47be",
   "metadata": {},
   "outputs": [],
   "source": [
    "def shared_ressource2vec2(in_,E):\n",
    "    count_banks = np.histogram(in_['details']['banks'],bins = range(E.num_banks+1))[0]/len(in_['details']['banks'])\n",
    "    count_rows = np.histogram(in_['details']['rows'],bins = range(E.num_rows+1))[0]/len(in_['details']['banks'])\n",
    "    ratios_core = np.array([sum(np.array(in_['initiators'])==1)/len(in_['initiators'])])\n",
    "    conflicts = np.array([1*in_['details']['bank_conflicts'],1*in_['details']['row_conflicts']])\n",
    "    out = np.concatenate((ratios_core,count_banks,count_rows,conflicts),axis=0)\n",
    "    return out"
   ]
  },
  {
   "cell_type": "code",
   "execution_count": 4,
   "id": "af1b3c2f-ccdd-46c4-b85c-0e49b197fbc7",
   "metadata": {},
   "outputs": [],
   "source": [
    "p0 = generate_instruction_sequence(50)\n",
    "p1 = generate_instruction_sequence(50)"
   ]
  },
  {
   "cell_type": "code",
   "execution_count": 5,
   "id": "abea4e48-70e1-4bb8-a47c-34e530d004b6",
   "metadata": {},
   "outputs": [],
   "source": [
    "GlobalVar.clear_history()\n",
    "E =Env(300)\n",
    "out = E({'core0':p0, 'core1':p1})"
   ]
  },
  {
   "cell_type": "code",
   "execution_count": 6,
   "id": "adf6bab6-280f-472b-a841-d166074fd088",
   "metadata": {},
   "outputs": [
    {
     "data": {
      "text/plain": [
       "[{'cycle': 2,\n",
       "  'type': 'L2_CACHE_CONTENTION',\n",
       "  'resource': 'L2_CACHE',\n",
       "  'initiators': [0, 1],\n",
       "  'details': {'set_indices': [4, 3],\n",
       "   'operations': ['read', 'read'],\n",
       "   'addresses': [17, 14]}}]"
      ]
     },
     "execution_count": 6,
     "metadata": {},
     "output_type": "execute_result"
    }
   ],
   "source": [
    "out['mutual']['shared_resource_events']"
   ]
  },
  {
   "cell_type": "code",
   "execution_count": 7,
   "id": "848ce99c-ffdb-42fe-a060-0af55003088a",
   "metadata": {},
   "outputs": [
    {
     "ename": "KeyError",
     "evalue": "'banks'",
     "output_type": "error",
     "traceback": [
      "\u001b[0;31m---------------------------------------------------------------------------\u001b[0m",
      "\u001b[0;31mKeyError\u001b[0m                                  Traceback (most recent call last)",
      "Cell \u001b[0;32mIn[7], line 1\u001b[0m\n\u001b[0;32m----> 1\u001b[0m \u001b[43mshared_ressource2vec\u001b[49m\u001b[43m(\u001b[49m\u001b[43mout\u001b[49m\u001b[43m[\u001b[49m\u001b[38;5;124;43m'\u001b[39;49m\u001b[38;5;124;43mmutual\u001b[39;49m\u001b[38;5;124;43m'\u001b[39;49m\u001b[43m]\u001b[49m\u001b[43m[\u001b[49m\u001b[38;5;124;43m'\u001b[39;49m\u001b[38;5;124;43mshared_resource_events\u001b[39;49m\u001b[38;5;124;43m'\u001b[39;49m\u001b[43m]\u001b[49m\u001b[43m[\u001b[49m\u001b[38;5;241;43m-\u001b[39;49m\u001b[38;5;241;43m1\u001b[39;49m\u001b[43m]\u001b[49m\u001b[43m,\u001b[49m\u001b[43mE\u001b[49m\u001b[43m)\u001b[49m\n",
      "Cell \u001b[0;32mIn[2], line 2\u001b[0m, in \u001b[0;36mshared_ressource2vec\u001b[0;34m(in_, E)\u001b[0m\n\u001b[1;32m      1\u001b[0m \u001b[38;5;28;01mdef\u001b[39;00m\u001b[38;5;250m \u001b[39m\u001b[38;5;21mshared_ressource2vec\u001b[39m(in_,E):\n\u001b[0;32m----> 2\u001b[0m     count_banks \u001b[38;5;241m=\u001b[39m np\u001b[38;5;241m.\u001b[39mhistogram(\u001b[43min_\u001b[49m\u001b[43m[\u001b[49m\u001b[38;5;124;43m'\u001b[39;49m\u001b[38;5;124;43mdetails\u001b[39;49m\u001b[38;5;124;43m'\u001b[39;49m\u001b[43m]\u001b[49m\u001b[43m[\u001b[49m\u001b[38;5;124;43m'\u001b[39;49m\u001b[38;5;124;43mbanks\u001b[39;49m\u001b[38;5;124;43m'\u001b[39;49m\u001b[43m]\u001b[49m,bins \u001b[38;5;241m=\u001b[39m \u001b[38;5;28mrange\u001b[39m(E\u001b[38;5;241m.\u001b[39mnum_banks\u001b[38;5;241m+\u001b[39m\u001b[38;5;241m1\u001b[39m))[\u001b[38;5;241m0\u001b[39m]\u001b[38;5;241m/\u001b[39m\u001b[38;5;28mlen\u001b[39m(in_[\u001b[38;5;124m'\u001b[39m\u001b[38;5;124mdetails\u001b[39m\u001b[38;5;124m'\u001b[39m][\u001b[38;5;124m'\u001b[39m\u001b[38;5;124mbanks\u001b[39m\u001b[38;5;124m'\u001b[39m])\n\u001b[1;32m      3\u001b[0m     count_rows \u001b[38;5;241m=\u001b[39m np\u001b[38;5;241m.\u001b[39mhistogram(in_[\u001b[38;5;124m'\u001b[39m\u001b[38;5;124mdetails\u001b[39m\u001b[38;5;124m'\u001b[39m][\u001b[38;5;124m'\u001b[39m\u001b[38;5;124mrows\u001b[39m\u001b[38;5;124m'\u001b[39m],bins \u001b[38;5;241m=\u001b[39m \u001b[38;5;28mrange\u001b[39m(E\u001b[38;5;241m.\u001b[39mnum_rows\u001b[38;5;241m+\u001b[39m\u001b[38;5;241m1\u001b[39m))[\u001b[38;5;241m0\u001b[39m]\u001b[38;5;241m/\u001b[39m\u001b[38;5;28mlen\u001b[39m(in_[\u001b[38;5;124m'\u001b[39m\u001b[38;5;124mdetails\u001b[39m\u001b[38;5;124m'\u001b[39m][\u001b[38;5;124m'\u001b[39m\u001b[38;5;124mbanks\u001b[39m\u001b[38;5;124m'\u001b[39m])\n\u001b[1;32m      4\u001b[0m     ratios_core \u001b[38;5;241m=\u001b[39m np\u001b[38;5;241m.\u001b[39marray([\u001b[38;5;28msum\u001b[39m(np\u001b[38;5;241m.\u001b[39marray(in_[\u001b[38;5;124m'\u001b[39m\u001b[38;5;124minitiators\u001b[39m\u001b[38;5;124m'\u001b[39m])\u001b[38;5;241m==\u001b[39m\u001b[38;5;241m1\u001b[39m)\u001b[38;5;241m/\u001b[39m\u001b[38;5;28mlen\u001b[39m(in_[\u001b[38;5;124m'\u001b[39m\u001b[38;5;124minitiators\u001b[39m\u001b[38;5;124m'\u001b[39m])])\n",
      "\u001b[0;31mKeyError\u001b[0m: 'banks'"
     ]
    }
   ],
   "source": [
    "shared_ressource2vec(out['mutual']['shared_resource_events'][-1],E)"
   ]
  },
  {
   "cell_type": "code",
   "execution_count": 5,
   "id": "e125e801-582f-493e-87fd-16785a94671a",
   "metadata": {},
   "outputs": [],
   "source": [
    "N = 201\n",
    "E =Env(300)\n",
    "H = History(env=E)\n",
    "random_explor = RANDOM(N,E,H)"
   ]
  },
  {
   "cell_type": "code",
   "execution_count": 6,
   "id": "2286a09c-99f9-4f2b-a834-bb522a79f935",
   "metadata": {},
   "outputs": [
    {
     "name": "stdout",
     "output_type": "stream",
     "text": [
      "step 0/200\n",
      "step 200/200\n"
     ]
    }
   ],
   "source": [
    "random_explor()"
   ]
  },
  {
   "cell_type": "code",
   "execution_count": 7,
   "id": "b0fb0758-08c8-4884-954e-15c7b77b5185",
   "metadata": {},
   "outputs": [
    {
     "data": {
      "text/plain": [
       "[{'program': 27, 'cycle': 22},\n",
       " {'program': 27, 'cycle': 26},\n",
       " {'program': 30, 'cycle': 27},\n",
       " {'program': 44, 'cycle': 8},\n",
       " {'program': 44, 'cycle': 23},\n",
       " {'program': 57, 'cycle': 37},\n",
       " {'program': 57, 'cycle': 41},\n",
       " {'program': 64, 'cycle': 33},\n",
       " {'program': 70, 'cycle': 26},\n",
       " {'program': 99, 'cycle': 54},\n",
       " {'program': 101, 'cycle': 46},\n",
       " {'program': 105, 'cycle': 23},\n",
       " {'program': 110, 'cycle': 39},\n",
       " {'program': 114, 'cycle': 28},\n",
       " {'program': 127, 'cycle': 34},\n",
       " {'program': 131, 'cycle': 20},\n",
       " {'program': 146, 'cycle': 8},\n",
       " {'program': 153, 'cycle': 21},\n",
       " {'program': 155, 'cycle': 44},\n",
       " {'program': 158, 'cycle': 24},\n",
       " {'program': 161, 'cycle': 28},\n",
       " {'program': 161, 'cycle': 32},\n",
       " {'program': 164, 'cycle': 8},\n",
       " {'program': 167, 'cycle': 26},\n",
       " {'program': 185, 'cycle': 7},\n",
       " {'program': 185, 'cycle': 22},\n",
       " {'program': 185, 'cycle': 41},\n",
       " {'program': 191, 'cycle': 23},\n",
       " {'program': 191, 'cycle': 27},\n",
       " {'program': 191, 'cycle': 46}]"
      ]
     },
     "execution_count": 7,
     "metadata": {},
     "output_type": "execute_result"
    }
   ],
   "source": [
    "H.shared_resource_coords"
   ]
  },
  {
   "cell_type": "code",
   "execution_count": 8,
   "id": "bc60a6b6-b4f8-4a40-b28d-29a02b96da48",
   "metadata": {},
   "outputs": [
    {
     "data": {
      "text/plain": [
       "{27: [{'cycle': 22,\n",
       "   'type': 'DDR_MEMORY_CONTENTION',\n",
       "   'resource': 'DDR_MEMORY',\n",
       "   'initiators': [1, 0, 0],\n",
       "   'details': {'banks': [1, 1, 1],\n",
       "    'rows': [1, 0, 0],\n",
       "    'operations': ['read', 'read', 'read'],\n",
       "    'statuses': ['ROW HIT', 'waiting', 'waiting'],\n",
       "    'bank_conflicts': True,\n",
       "    'row_conflicts': True}},\n",
       "  {'cycle': 26,\n",
       "   'type': 'DDR_MEMORY_CONTENTION',\n",
       "   'resource': 'DDR_MEMORY',\n",
       "   'initiators': [0, 0, 1],\n",
       "   'details': {'banks': [1, 1, 3],\n",
       "    'rows': [0, 0, 0],\n",
       "    'operations': ['read', 'read', 'read'],\n",
       "    'statuses': ['ROW MISS', 'waiting', 'waiting'],\n",
       "    'bank_conflicts': True,\n",
       "    'row_conflicts': False}}],\n",
       " 30: [{'cycle': 27,\n",
       "   'type': 'DDR_MEMORY_CONTENTION',\n",
       "   'resource': 'DDR_MEMORY',\n",
       "   'initiators': [1, 0],\n",
       "   'details': {'banks': [1, 1],\n",
       "    'rows': [0, 0],\n",
       "    'operations': ['read', 'read'],\n",
       "    'statuses': ['ROW HIT', 'waiting'],\n",
       "    'bank_conflicts': True,\n",
       "    'row_conflicts': False}}],\n",
       " 40: [{'cycle': 14,\n",
       "   'type': 'L2_CACHE_CONTENTION',\n",
       "   'resource': 'L2_CACHE',\n",
       "   'initiators': [0, 1],\n",
       "   'details': {'set_indices': [1, 5],\n",
       "    'operations': ['read', 'read'],\n",
       "    'addresses': [6, 21]}}],\n",
       " 44: [{'cycle': 8,\n",
       "   'type': 'DDR_MEMORY_CONTENTION',\n",
       "   'resource': 'DDR_MEMORY',\n",
       "   'initiators': [1, 0],\n",
       "   'details': {'banks': [3, 3],\n",
       "    'rows': [0, 0],\n",
       "    'operations': ['read', 'read'],\n",
       "    'statuses': ['ROW MISS', 'waiting'],\n",
       "    'bank_conflicts': True,\n",
       "    'row_conflicts': False}},\n",
       "  {'cycle': 23,\n",
       "   'type': 'DDR_MEMORY_CONTENTION',\n",
       "   'resource': 'DDR_MEMORY',\n",
       "   'initiators': [0, 1],\n",
       "   'details': {'banks': [3, 3],\n",
       "    'rows': [0, 0],\n",
       "    'operations': ['read', 'read'],\n",
       "    'statuses': ['ROW HIT', 'waiting'],\n",
       "    'bank_conflicts': True,\n",
       "    'row_conflicts': False}}],\n",
       " 50: [{'cycle': 5,\n",
       "   'type': 'L2_CACHE_CONTENTION',\n",
       "   'resource': 'L2_CACHE',\n",
       "   'initiators': [0, 1],\n",
       "   'details': {'set_indices': [0, 2],\n",
       "    'operations': ['read', 'read'],\n",
       "    'addresses': [2, 11]}}],\n",
       " 57: [{'cycle': 37,\n",
       "   'type': 'DDR_MEMORY_CONTENTION',\n",
       "   'resource': 'DDR_MEMORY',\n",
       "   'initiators': [0, 1],\n",
       "   'details': {'banks': [0, 0],\n",
       "    'rows': [0, 1],\n",
       "    'operations': ['read', 'read'],\n",
       "    'statuses': ['ROW HIT', 'waiting'],\n",
       "    'bank_conflicts': True,\n",
       "    'row_conflicts': True}},\n",
       "  {'cycle': 41,\n",
       "   'type': 'DDR_MEMORY_CONTENTION',\n",
       "   'resource': 'DDR_MEMORY',\n",
       "   'initiators': [0, 1],\n",
       "   'details': {'banks': [0, 0],\n",
       "    'rows': [0, 1],\n",
       "    'operations': ['read', 'read'],\n",
       "    'statuses': ['ROW HIT', 'waiting'],\n",
       "    'bank_conflicts': True,\n",
       "    'row_conflicts': True}}],\n",
       " 64: [{'cycle': 31,\n",
       "   'type': 'L2_CACHE_CONTENTION',\n",
       "   'resource': 'L2_CACHE',\n",
       "   'initiators': [0, 1],\n",
       "   'details': {'set_indices': [1, 4],\n",
       "    'operations': ['read', 'read'],\n",
       "    'addresses': [5, 19]}},\n",
       "  {'cycle': 33,\n",
       "   'type': 'DDR_MEMORY_CONTENTION',\n",
       "   'resource': 'DDR_MEMORY',\n",
       "   'initiators': [1, 0],\n",
       "   'details': {'banks': [2, 2],\n",
       "    'rows': [0, 0],\n",
       "    'operations': ['read', 'read'],\n",
       "    'statuses': ['ROW HIT', 'waiting'],\n",
       "    'bank_conflicts': True,\n",
       "    'row_conflicts': False}}],\n",
       " 70: [{'cycle': 26,\n",
       "   'type': 'DDR_MEMORY_CONTENTION',\n",
       "   'resource': 'DDR_MEMORY',\n",
       "   'initiators': [0, 1],\n",
       "   'details': {'banks': [3, 3],\n",
       "    'rows': [0, 0],\n",
       "    'operations': ['read', 'read'],\n",
       "    'statuses': ['ROW HIT', 'waiting'],\n",
       "    'bank_conflicts': True,\n",
       "    'row_conflicts': False}}],\n",
       " 99: [{'cycle': 46,\n",
       "   'type': 'L2_CACHE_CONTENTION',\n",
       "   'resource': 'L2_CACHE',\n",
       "   'initiators': [0, 1],\n",
       "   'details': {'set_indices': [0, 5],\n",
       "    'operations': ['read', 'read'],\n",
       "    'addresses': [3, 21]}},\n",
       "  {'cycle': 54,\n",
       "   'type': 'DDR_MEMORY_CONTENTION',\n",
       "   'resource': 'DDR_MEMORY',\n",
       "   'initiators': [0, 1],\n",
       "   'details': {'banks': [1, 1],\n",
       "    'rows': [0, 1],\n",
       "    'operations': ['read', 'read'],\n",
       "    'statuses': ['ROW HIT', 'waiting'],\n",
       "    'bank_conflicts': True,\n",
       "    'row_conflicts': True}}],\n",
       " 101: [{'cycle': 46,\n",
       "   'type': 'DDR_MEMORY_CONTENTION',\n",
       "   'resource': 'DDR_MEMORY',\n",
       "   'initiators': [1, 0, 0],\n",
       "   'details': {'banks': [3, 3, 0],\n",
       "    'rows': [1, 0, 0],\n",
       "    'operations': ['read', 'read', 'read'],\n",
       "    'statuses': ['ROW HIT', 'waiting', 'waiting'],\n",
       "    'bank_conflicts': True,\n",
       "    'row_conflicts': True}}],\n",
       " 105: [{'cycle': 10,\n",
       "   'type': 'L2_CACHE_CONTENTION',\n",
       "   'resource': 'L2_CACHE',\n",
       "   'initiators': [0, 1],\n",
       "   'details': {'set_indices': [1, 3],\n",
       "    'operations': ['read', 'read'],\n",
       "    'addresses': [4, 13]}},\n",
       "  {'cycle': 23,\n",
       "   'type': 'DDR_MEMORY_CONTENTION',\n",
       "   'resource': 'DDR_MEMORY',\n",
       "   'initiators': [0, 1],\n",
       "   'details': {'banks': [1, 1],\n",
       "    'rows': [0, 0],\n",
       "    'operations': ['read', 'read'],\n",
       "    'statuses': ['ROW HIT', 'waiting'],\n",
       "    'bank_conflicts': True,\n",
       "    'row_conflicts': False}}],\n",
       " 109: [{'cycle': 20,\n",
       "   'type': 'L2_CACHE_CONTENTION',\n",
       "   'resource': 'L2_CACHE',\n",
       "   'initiators': [0, 1],\n",
       "   'details': {'set_indices': [2, 4],\n",
       "    'operations': ['read', 'read'],\n",
       "    'addresses': [8, 16]}}],\n",
       " 110: [{'cycle': 39,\n",
       "   'type': 'DDR_MEMORY_CONTENTION',\n",
       "   'resource': 'DDR_MEMORY',\n",
       "   'initiators': [1, 0, 0],\n",
       "   'details': {'banks': [0, 0, 0],\n",
       "    'rows': [1, 0, 0],\n",
       "    'operations': ['read', 'read', 'read'],\n",
       "    'statuses': ['ROW HIT', 'waiting', 'waiting'],\n",
       "    'bank_conflicts': True,\n",
       "    'row_conflicts': True}}],\n",
       " 114: [{'cycle': 28,\n",
       "   'type': 'DDR_MEMORY_CONTENTION',\n",
       "   'resource': 'DDR_MEMORY',\n",
       "   'initiators': [1, 0],\n",
       "   'details': {'banks': [0, 0],\n",
       "    'rows': [1, 0],\n",
       "    'operations': ['read', 'read'],\n",
       "    'statuses': ['ROW HIT', 'waiting'],\n",
       "    'bank_conflicts': True,\n",
       "    'row_conflicts': True}}],\n",
       " 119: [{'cycle': 4,\n",
       "   'type': 'L2_CACHE_CONTENTION',\n",
       "   'resource': 'L2_CACHE',\n",
       "   'initiators': [0, 1],\n",
       "   'details': {'set_indices': [0, 3],\n",
       "    'operations': ['read', 'read'],\n",
       "    'addresses': [3, 13]}}],\n",
       " 127: [{'cycle': 34,\n",
       "   'type': 'DDR_MEMORY_CONTENTION',\n",
       "   'resource': 'DDR_MEMORY',\n",
       "   'initiators': [1, 0],\n",
       "   'details': {'banks': [1, 1],\n",
       "    'rows': [1, 0],\n",
       "    'operations': ['read', 'read'],\n",
       "    'statuses': ['ROW HIT', 'waiting'],\n",
       "    'bank_conflicts': True,\n",
       "    'row_conflicts': True}}],\n",
       " 131: [{'cycle': 2,\n",
       "   'type': 'L2_CACHE_CONTENTION',\n",
       "   'resource': 'L2_CACHE',\n",
       "   'initiators': [0, 1],\n",
       "   'details': {'set_indices': [0, 3],\n",
       "    'operations': ['read', 'read'],\n",
       "    'addresses': [2, 15]}},\n",
       "  {'cycle': 20,\n",
       "   'type': 'DDR_MEMORY_CONTENTION',\n",
       "   'resource': 'DDR_MEMORY',\n",
       "   'initiators': [0, 1],\n",
       "   'details': {'banks': [2, 2],\n",
       "    'rows': [0, 0],\n",
       "    'operations': ['read', 'read'],\n",
       "    'statuses': ['ROW MISS', 'waiting'],\n",
       "    'bank_conflicts': True,\n",
       "    'row_conflicts': False}}],\n",
       " 146: [{'cycle': 8,\n",
       "   'type': 'DDR_MEMORY_CONTENTION',\n",
       "   'resource': 'DDR_MEMORY',\n",
       "   'initiators': [0, 1],\n",
       "   'details': {'banks': [1, 1],\n",
       "    'rows': [0, 1],\n",
       "    'operations': ['read', 'read'],\n",
       "    'statuses': ['ROW MISS', 'waiting'],\n",
       "    'bank_conflicts': True,\n",
       "    'row_conflicts': True}}],\n",
       " 151: [{'cycle': 16,\n",
       "   'type': 'L2_CACHE_CONTENTION',\n",
       "   'resource': 'L2_CACHE',\n",
       "   'initiators': [0, 1],\n",
       "   'details': {'set_indices': [2, 3],\n",
       "    'operations': ['read', 'read'],\n",
       "    'addresses': [9, 12]}}],\n",
       " 153: [{'cycle': 0,\n",
       "   'type': 'L2_CACHE_CONTENTION',\n",
       "   'resource': 'L2_CACHE',\n",
       "   'initiators': [0, 1],\n",
       "   'details': {'set_indices': [1, 3],\n",
       "    'operations': ['read', 'read'],\n",
       "    'addresses': [7, 12]}},\n",
       "  {'cycle': 21,\n",
       "   'type': 'DDR_MEMORY_CONTENTION',\n",
       "   'resource': 'DDR_MEMORY',\n",
       "   'initiators': [0, 1],\n",
       "   'details': {'banks': [0, 0],\n",
       "    'rows': [0, 0],\n",
       "    'operations': ['read', 'read'],\n",
       "    'statuses': ['ROW HIT', 'waiting'],\n",
       "    'bank_conflicts': True,\n",
       "    'row_conflicts': False}}],\n",
       " 155: [{'cycle': 44,\n",
       "   'type': 'DDR_MEMORY_CONTENTION',\n",
       "   'resource': 'DDR_MEMORY',\n",
       "   'initiators': [1, 0],\n",
       "   'details': {'banks': [0, 0],\n",
       "    'rows': [1, 0],\n",
       "    'operations': ['read', 'read'],\n",
       "    'statuses': ['ROW HIT', 'waiting'],\n",
       "    'bank_conflicts': True,\n",
       "    'row_conflicts': True}}],\n",
       " 158: [{'cycle': 24,\n",
       "   'type': 'DDR_MEMORY_CONTENTION',\n",
       "   'resource': 'DDR_MEMORY',\n",
       "   'initiators': [0, 1],\n",
       "   'details': {'banks': [3, 3],\n",
       "    'rows': [0, 0],\n",
       "    'operations': ['read', 'read'],\n",
       "    'statuses': ['ROW MISS', 'waiting'],\n",
       "    'bank_conflicts': True,\n",
       "    'row_conflicts': False}}],\n",
       " 161: [{'cycle': 28,\n",
       "   'type': 'DDR_MEMORY_CONTENTION',\n",
       "   'resource': 'DDR_MEMORY',\n",
       "   'initiators': [0, 0, 1, 1],\n",
       "   'details': {'banks': [3, 3, 3, 3],\n",
       "    'rows': [0, 0, 0, 0],\n",
       "    'operations': ['read', 'read', 'read', 'read'],\n",
       "    'statuses': ['ROW HIT', 'waiting', 'waiting', 'waiting'],\n",
       "    'bank_conflicts': True,\n",
       "    'row_conflicts': False}},\n",
       "  {'cycle': 32,\n",
       "   'type': 'DDR_MEMORY_CONTENTION',\n",
       "   'resource': 'DDR_MEMORY',\n",
       "   'initiators': [0, 1, 1],\n",
       "   'details': {'banks': [3, 3, 3],\n",
       "    'rows': [0, 0, 0],\n",
       "    'operations': ['read', 'read', 'read'],\n",
       "    'statuses': ['ROW HIT', 'waiting', 'waiting'],\n",
       "    'bank_conflicts': True,\n",
       "    'row_conflicts': False}}],\n",
       " 164: [{'cycle': 8,\n",
       "   'type': 'DDR_MEMORY_CONTENTION',\n",
       "   'resource': 'DDR_MEMORY',\n",
       "   'initiators': [0, 1],\n",
       "   'details': {'banks': [1, 1],\n",
       "    'rows': [0, 0],\n",
       "    'operations': ['read', 'read'],\n",
       "    'statuses': ['ROW MISS', 'waiting'],\n",
       "    'bank_conflicts': True,\n",
       "    'row_conflicts': False}}],\n",
       " 167: [{'cycle': 26,\n",
       "   'type': 'DDR_MEMORY_CONTENTION',\n",
       "   'resource': 'DDR_MEMORY',\n",
       "   'initiators': [0, 1],\n",
       "   'details': {'banks': [3, 3],\n",
       "    'rows': [0, 0],\n",
       "    'operations': ['read', 'read'],\n",
       "    'statuses': ['ROW HIT', 'waiting'],\n",
       "    'bank_conflicts': True,\n",
       "    'row_conflicts': False}}],\n",
       " 185: [{'cycle': 35,\n",
       "   'type': 'L2_CACHE_CONTENTION',\n",
       "   'resource': 'L2_CACHE',\n",
       "   'initiators': [0, 1],\n",
       "   'details': {'set_indices': [2, 5],\n",
       "    'operations': ['read', 'read'],\n",
       "    'addresses': [10, 21]}},\n",
       "  {'cycle': 7,\n",
       "   'type': 'DDR_MEMORY_CONTENTION',\n",
       "   'resource': 'DDR_MEMORY',\n",
       "   'initiators': [0, 1],\n",
       "   'details': {'banks': [0, 0],\n",
       "    'rows': [0, 1],\n",
       "    'operations': ['read', 'read'],\n",
       "    'statuses': ['ROW MISS', 'waiting'],\n",
       "    'bank_conflicts': True,\n",
       "    'row_conflicts': True}},\n",
       "  {'cycle': 22,\n",
       "   'type': 'DDR_MEMORY_CONTENTION',\n",
       "   'resource': 'DDR_MEMORY',\n",
       "   'initiators': [0, 1],\n",
       "   'details': {'banks': [0, 0],\n",
       "    'rows': [0, 1],\n",
       "    'operations': ['read', 'read'],\n",
       "    'statuses': ['ROW HIT', 'waiting'],\n",
       "    'bank_conflicts': True,\n",
       "    'row_conflicts': True}},\n",
       "  {'cycle': 41,\n",
       "   'type': 'DDR_MEMORY_CONTENTION',\n",
       "   'resource': 'DDR_MEMORY',\n",
       "   'initiators': [0, 1],\n",
       "   'details': {'banks': [1, 1],\n",
       "    'rows': [0, 1],\n",
       "    'operations': ['read', 'read'],\n",
       "    'statuses': ['ROW HIT', 'waiting'],\n",
       "    'bank_conflicts': True,\n",
       "    'row_conflicts': True}}],\n",
       " 191: [{'cycle': 23,\n",
       "   'type': 'DDR_MEMORY_CONTENTION',\n",
       "   'resource': 'DDR_MEMORY',\n",
       "   'initiators': [1, 0, 1, 1],\n",
       "   'details': {'banks': [0, 0, 0, 0],\n",
       "    'rows': [0, 0, 1, 1],\n",
       "    'operations': ['read', 'read', 'read', 'read'],\n",
       "    'statuses': ['ROW HIT', 'waiting', 'waiting', 'waiting'],\n",
       "    'bank_conflicts': True,\n",
       "    'row_conflicts': True}},\n",
       "  {'cycle': 27,\n",
       "   'type': 'DDR_MEMORY_CONTENTION',\n",
       "   'resource': 'DDR_MEMORY',\n",
       "   'initiators': [0, 1, 1],\n",
       "   'details': {'banks': [0, 0, 0],\n",
       "    'rows': [0, 1, 1],\n",
       "    'operations': ['read', 'read', 'read'],\n",
       "    'statuses': ['ROW HIT', 'waiting', 'waiting'],\n",
       "    'bank_conflicts': True,\n",
       "    'row_conflicts': True}},\n",
       "  {'cycle': 46,\n",
       "   'type': 'DDR_MEMORY_CONTENTION',\n",
       "   'resource': 'DDR_MEMORY',\n",
       "   'initiators': [1, 0],\n",
       "   'details': {'banks': [0, 0],\n",
       "    'rows': [1, 0],\n",
       "    'operations': ['read', 'read'],\n",
       "    'statuses': ['ROW HIT', 'waiting'],\n",
       "    'bank_conflicts': True,\n",
       "    'row_conflicts': True}}]}"
      ]
     },
     "execution_count": 8,
     "metadata": {},
     "output_type": "execute_result"
    }
   ],
   "source": [
    "H.memory_perf['mutual']['shared_resource_events']"
   ]
  },
  {
   "cell_type": "code",
   "execution_count": null,
   "id": "bc5c1069-e31e-4732-bbc6-36fdcfa92822",
   "metadata": {},
   "outputs": [],
   "source": []
  },
  {
   "cell_type": "code",
   "execution_count": 9,
   "id": "2cb565bf-7900-4135-b383-da1b1b59320c",
   "metadata": {},
   "outputs": [
    {
     "data": {
      "text/plain": [
       "array([[ 60.,  61.,  83., ...,   1.,   1.,   1.],\n",
       "       [ 59.,  67.,  68., ...,   1.,   1.,   1.],\n",
       "       [ 59.,  59., 105., ...,   0.,   1.,   1.],\n",
       "       ...,\n",
       "       [ 54.,  55.,  56., ...,   1.,   0.,   1.],\n",
       "       [ 56.,  57.,  59., ...,   1.,   1.,   1.],\n",
       "       [ 71.,  73.,  95., ...,   1.,   1.,   1.]], shape=(201, 40))"
      ]
     },
     "execution_count": 9,
     "metadata": {},
     "output_type": "execute_result"
    }
   ],
   "source": [
    "H.as_array()"
   ]
  },
  {
   "cell_type": "code",
   "execution_count": 10,
   "id": "5645c929-adbd-4e4e-861d-a89b6fe905e0",
   "metadata": {
    "scrolled": true
   },
   "outputs": [
    {
     "data": {
      "text/plain": [
       "array([0.33333333, 0.        , 0.        , 0.        , 0.        ,\n",
       "       0.33333333, 0.        , 1.        , 0.        ])"
      ]
     },
     "execution_count": 10,
     "metadata": {},
     "output_type": "execute_result"
    }
   ],
   "source": [
    "np.array(H.shared_resource_list).min(axis=0)"
   ]
  },
  {
   "cell_type": "code",
   "execution_count": 11,
   "id": "6050f137-bea6-46a7-af55-c51edaa66d56",
   "metadata": {},
   "outputs": [
    {
     "data": {
      "text/plain": [
       "(30, 9)"
      ]
     },
     "execution_count": 11,
     "metadata": {},
     "output_type": "execute_result"
    }
   ],
   "source": [
    "np.array(H.shared_resource_list).shape"
   ]
  },
  {
   "cell_type": "code",
   "execution_count": 12,
   "id": "39f15839-08e0-4973-8878-dd873b80e193",
   "metadata": {},
   "outputs": [
    {
     "data": {
      "text/plain": [
       "(201, 40)"
      ]
     },
     "execution_count": 12,
     "metadata": {},
     "output_type": "execute_result"
    }
   ],
   "source": [
    "H.as_array().shape"
   ]
  },
  {
   "cell_type": "code",
   "execution_count": 13,
   "id": "f8763684-5b6a-4fa3-b6ca-5d3ea9692931",
   "metadata": {
    "scrolled": true
   },
   "outputs": [
    {
     "data": {
      "text/plain": [
       "[{'program': 27, 'cycle': 22},\n",
       " {'program': 27, 'cycle': 26},\n",
       " {'program': 30, 'cycle': 27},\n",
       " {'program': 44, 'cycle': 8},\n",
       " {'program': 44, 'cycle': 23},\n",
       " {'program': 57, 'cycle': 37},\n",
       " {'program': 57, 'cycle': 41},\n",
       " {'program': 64, 'cycle': 33},\n",
       " {'program': 70, 'cycle': 26},\n",
       " {'program': 99, 'cycle': 54},\n",
       " {'program': 101, 'cycle': 46},\n",
       " {'program': 105, 'cycle': 23},\n",
       " {'program': 110, 'cycle': 39},\n",
       " {'program': 114, 'cycle': 28},\n",
       " {'program': 127, 'cycle': 34},\n",
       " {'program': 131, 'cycle': 20},\n",
       " {'program': 146, 'cycle': 8},\n",
       " {'program': 153, 'cycle': 21},\n",
       " {'program': 155, 'cycle': 44},\n",
       " {'program': 158, 'cycle': 24},\n",
       " {'program': 161, 'cycle': 28},\n",
       " {'program': 161, 'cycle': 32},\n",
       " {'program': 164, 'cycle': 8},\n",
       " {'program': 167, 'cycle': 26},\n",
       " {'program': 185, 'cycle': 7},\n",
       " {'program': 185, 'cycle': 22},\n",
       " {'program': 185, 'cycle': 41},\n",
       " {'program': 191, 'cycle': 23},\n",
       " {'program': 191, 'cycle': 27},\n",
       " {'program': 191, 'cycle': 46}]"
      ]
     },
     "execution_count": 13,
     "metadata": {},
     "output_type": "execute_result"
    }
   ],
   "source": [
    "H.shared_resource_coords"
   ]
  },
  {
   "cell_type": "code",
   "execution_count": null,
   "id": "c1a1632c-50ba-4326-99e2-3111b11b04f0",
   "metadata": {},
   "outputs": [],
   "source": []
  },
  {
   "cell_type": "code",
   "execution_count": 14,
   "id": "50217c32-d8b5-42e1-8fab-79605c30da6a",
   "metadata": {},
   "outputs": [
    {
     "data": {
      "text/plain": [
       "dict_keys(['time_core1', 'miss_ratios_detailled', 'miss_ratios_global', 'L1_miss_ratio_core0', 'L1_miss_ratio_core1', 'L2_miss_ratio'])"
      ]
     },
     "execution_count": 14,
     "metadata": {},
     "output_type": "execute_result"
    }
   ],
   "source": [
    "H.memory_perf['core1'].keys()"
   ]
  },
  {
   "cell_type": "code",
   "execution_count": 3,
   "id": "0707c204-f43c-442f-92ab-c3ac792d7440",
   "metadata": {},
   "outputs": [],
   "source": [
    "from exploration.imgep.OptimizationPolicy import OptimizationPolicykNN as OP\n",
    "from exploration.imgep.goal_generator import GoalGenerator as G\n",
    "from exploration.imgep.imgep import IMGEP"
   ]
  },
  {
   "cell_type": "code",
   "execution_count": 6,
   "id": "53f100b9-b73d-46f1-af82-1a332e82fbf3",
   "metadata": {},
   "outputs": [
    {
     "name": "stdout",
     "output_type": "stream",
     "text": [
      "k 1\n",
      "segment mixing method True\n",
      "step 0/999\n",
      "step 999/999\n"
     ]
    }
   ],
   "source": [
    "N = 1000\n",
    "N_init = 1000\n",
    "k_values = [1]\n",
    "num_mutations = 1\n",
    "periode = 5\n",
    "min_address_core0 = 0\n",
    "min_address_core1 = 49\n",
    "max_address_core0 = 50\n",
    "max_address_core1 = 100\n",
    "for segment_method in [True]:\n",
    "    for k in k_values:\n",
    "        print('k',k)\n",
    "        print('segment mixing method', segment_method)\n",
    "        E =Env(300,num_addr=100)\n",
    "        H = History(env=E)\n",
    "        Pi = OP(num_mutations = num_mutations,k=k,\n",
    "                segment_method=segment_method,\n",
    "                min_address_core0=min_address_core0,\n",
    "                max_address_core0=max_address_core0,\n",
    "                min_address_core1=min_address_core1,\n",
    "                max_address_core1=max_address_core0)\n",
    "        goal_generator = G()\n",
    "        imgep = IMGEP(N,N_init,E,H,goal_generator,Pi, periode = periode,\n",
    "                      min_address_core0=min_address_core0,\n",
    "                      max_address_core0=max_address_core0,\n",
    "                      min_address_core1=min_address_core1,\n",
    "                      max_address_core1=max_address_core1)\n",
    "        imgep()\n",
    "        s = 1 if segment_method else 0\n",
    "        H.save_pickle(f'data_explor/imgep_run_{k}_{N}_s_{s}')"
   ]
  },
  {
   "cell_type": "code",
   "execution_count": 7,
   "id": "9f7edb85-7fd8-4dfc-901e-8d7122c8bdec",
   "metadata": {},
   "outputs": [
    {
     "data": {
      "text/plain": [
       "(1000, 100)"
      ]
     },
     "execution_count": 7,
     "metadata": {},
     "output_type": "execute_result"
    }
   ],
   "source": [
    "H.as_array().shape"
   ]
  },
  {
   "cell_type": "code",
   "execution_count": 8,
   "id": "a3a89bb9-e593-4537-b8c9-e404e0b1072f",
   "metadata": {},
   "outputs": [],
   "source": [
    "goal_generator = G()"
   ]
  },
  {
   "cell_type": "code",
   "execution_count": 13,
   "id": "7a873e71-7b87-41e2-a4f9-c5b80c4b1f79",
   "metadata": {},
   "outputs": [
    {
     "data": {
      "text/plain": [
       "0.26058834224935035"
      ]
     },
     "execution_count": 13,
     "metadata": {},
     "output_type": "execute_result"
    }
   ],
   "source": [
    "goal_generator(H,99)"
   ]
  },
  {
   "cell_type": "code",
   "execution_count": 28,
   "id": "a50f7f22-32ed-4226-8138-9b44f960950c",
   "metadata": {},
   "outputs": [
    {
     "data": {
      "text/plain": [
       "[0, 2, 0, 0, 3, 2, 1, 1, 1, 1, 0, 3, 0, 0, 2, 1, 0, 0, 0, 2]"
      ]
     },
     "execution_count": 28,
     "metadata": {},
     "output_type": "execute_result"
    }
   ],
   "source": [
    "[random.choice(range(4)) for j in range(20)]"
   ]
  },
  {
   "cell_type": "code",
   "execution_count": null,
   "id": "08cddbe1-f6ef-497f-be04-33158094e9d0",
   "metadata": {},
   "outputs": [],
   "source": []
  }
 ],
 "metadata": {
  "kernelspec": {
   "display_name": "Python 3 (ipykernel)",
   "language": "python",
   "name": "python3"
  },
  "language_info": {
   "codemirror_mode": {
    "name": "ipython",
    "version": 3
   },
   "file_extension": ".py",
   "mimetype": "text/x-python",
   "name": "python",
   "nbconvert_exporter": "python",
   "pygments_lexer": "ipython3",
   "version": "3.10.12"
  }
 },
 "nbformat": 4,
 "nbformat_minor": 5
}
