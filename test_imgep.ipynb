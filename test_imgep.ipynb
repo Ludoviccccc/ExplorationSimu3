{
 "cells": [
  {
   "cell_type": "code",
   "execution_count": 1,
   "id": "3ba7a3f1-870f-4c7c-9746-d9ae1a5d6d4f",
   "metadata": {},
   "outputs": [],
   "source": [
    "from simulator.sim3 import *\n",
    "import pickle\n",
    "from exploration.env.func import Experiment, Env\n",
    "from exploration.random.func import RANDOM\n",
    "import numpy as np\n",
    "from codegeneration import generate_instruction_sequence\n",
    "from simulator.sim3 import print_contention_analysis\n",
    "import pandas as pd\n",
    "from exploration.history import History\n",
    "from exploration.imgep.OptimizationPolicy import OptimizationPolicykNN as OP\n",
    "from exploration.imgep.goal_generator import GoalGenerator as G\n",
    "from exploration.imgep.imgep import IMGEP\n",
    "from visu import plot_ddr_miss_ratio_diversity, plot_time_diversity\n",
    "import os"
   ]
  },
  {
   "cell_type": "code",
   "execution_count": 2,
   "id": "726c5742-a4db-4851-a8ae-058a0207ae95",
   "metadata": {},
   "outputs": [],
   "source": [
    "def load(name):\n",
    "    k = 1\n",
    "    while os.path.isfile(f\"{name}_{k}.pkl\"):\n",
    "        k+=1\n",
    "    k-=1\n",
    "    with open(f'{name}_{k}.pkl','rb') as f:\n",
    "        contentbis = pickle.load(f)\n",
    "    return contentbis"
   ]
  },
  {
   "cell_type": "markdown",
   "id": "7708efda-5dc0-4811-a93f-0a301325dc4e",
   "metadata": {},
   "source": [
    "# Exploration random"
   ]
  },
  {
   "cell_type": "code",
   "execution_count": 3,
   "id": "6076ca85-6ba9-4c5d-ba60-5c7bb35703e7",
   "metadata": {},
   "outputs": [],
   "source": [
    "N = 10000\n",
    "E =Env(300)\n",
    "H_rand = History(env = E)"
   ]
  },
  {
   "cell_type": "code",
   "execution_count": 4,
   "id": "ae89e7c6-377d-4c7a-9e55-1cdb7907050e",
   "metadata": {},
   "outputs": [],
   "source": [
    "min_address_core0 = 0\n",
    "max_address_core0 = 10\n",
    "min_address_core1 = 11\n",
    "max_address_core1 = 21"
   ]
  },
  {
   "cell_type": "code",
   "execution_count": 5,
   "id": "d25e9a10-a898-48a9-b657-025d92c5aa43",
   "metadata": {},
   "outputs": [],
   "source": [
    "random_explor = RANDOM(N,E,H_rand,min_address_core0,max_address_core0, min_address_core1, max_address_core1)"
   ]
  },
  {
   "cell_type": "code",
   "execution_count": 6,
   "id": "1594146e-e97c-402f-8a6b-cab406bb37b3",
   "metadata": {},
   "outputs": [
    {
     "name": "stdout",
     "output_type": "stream",
     "text": [
      "step 0/9999\n",
      "step 1000/9999\n",
      "step 2000/9999\n",
      "step 3000/9999\n",
      "step 4000/9999\n",
      "step 5000/9999\n",
      "step 6000/9999\n",
      "step 7000/9999\n",
      "step 8000/9999\n",
      "step 9000/9999\n",
      "step 9999/9999\n"
     ]
    }
   ],
   "source": [
    "random_explor()\n",
    "H_rand.save_pickle('data_explor/rand_run')"
   ]
  },
  {
   "cell_type": "markdown",
   "id": "ba30fac2-e16e-4878-8406-15dfe8182fdc",
   "metadata": {},
   "source": [
    "# Test optimized policy"
   ]
  },
  {
   "cell_type": "code",
   "execution_count": 7,
   "id": "048a51a6-8a0d-40c7-963d-90613c087a9e",
   "metadata": {},
   "outputs": [],
   "source": [
    "k = 2\n",
    "num_mutations = 1\n",
    "Pi = OP(num_mutations = num_mutations,k=k,segment_method=True)\n",
    "goal_generator = G()"
   ]
  },
  {
   "cell_type": "code",
   "execution_count": 8,
   "id": "fd8c476e-ce8a-43c4-962b-3065880aac37",
   "metadata": {},
   "outputs": [
    {
     "name": "stdout",
     "output_type": "stream",
     "text": [
      "module 1 is time execution information: [ 75.  58.  72.  83.  88.  43.  94.  91.  59. 102.]\n",
      "min module 1  0.0\n",
      "max module 1  125.0\n",
      "lets generate a goal for module 1: 425.6838933680753\n"
     ]
    }
   ],
   "source": [
    "module = 1\n",
    "goal = goal_generator(H_rand,module)\n",
    "tab = H_rand.as_array()\n",
    "print('module 1 is time execution information:', tab[:10,module])\n",
    "print('min module 1 ',min(tab[:,module]))\n",
    "print('max module 1 ',max(tab[:,module]))\n",
    "print('lets generate a goal for module 1:', goal)\n",
    "theta = Pi(goal,H_rand,module)"
   ]
  },
  {
   "cell_type": "markdown",
   "id": "51946552-6b50-4d4d-bcdb-4c245aee8a8f",
   "metadata": {},
   "source": [
    "# Tests imgep"
   ]
  },
  {
   "cell_type": "code",
   "execution_count": 13,
   "id": "56f96f1f-d6bd-4cc8-82ce-2893efe554d3",
   "metadata": {
    "scrolled": true
   },
   "outputs": [
    {
     "name": "stdout",
     "output_type": "stream",
     "text": [
      "k 1\n",
      "segment mixing method False\n",
      "step 0/999\n",
      "step 999/999\n",
      "step 1000/9999\n",
      "step 2000/9999\n",
      "step 3000/9999\n",
      "step 4000/9999\n",
      "step 5000/9999\n",
      "step 6000/9999\n",
      "step 7000/9999\n",
      "step 8000/9999\n",
      "step 9000/9999\n",
      "step 9999/9999\n",
      "k 1\n",
      "segment mixing method True\n",
      "step 0/999\n",
      "step 999/999\n",
      "step 1000/9999\n",
      "step 2000/9999\n",
      "step 3000/9999\n",
      "step 4000/9999\n",
      "step 5000/9999\n",
      "step 6000/9999\n",
      "step 7000/9999\n",
      "step 8000/9999\n",
      "step 9000/9999\n",
      "step 9999/9999\n"
     ]
    }
   ],
   "source": [
    "N = 10000\n",
    "N_init = 1000\n",
    "k_values = [1]\n",
    "num_mutations = 1\n",
    "periode = 5\n",
    "for segment_method in [False,True]:\n",
    "    for k in k_values:\n",
    "        print('k',k)\n",
    "        print('segment mixing method', segment_method)\n",
    "        E =Env(300)\n",
    "        H = History(env=E)\n",
    "        Pi = OP(num_mutations = num_mutations,k=k,segment_method=segment_method)\n",
    "        goal_generator = G()\n",
    "        imgep = IMGEP(N,N_init,E,H,goal_generator,Pi, periode = periode)\n",
    "        imgep()\n",
    "        s = 1 if segment_method else 0\n",
    "        H.save_pickle(f'data_explor/imgep_run_{k}_{N}_s_{s}')"
   ]
  },
  {
   "cell_type": "markdown",
   "id": "c01e5342-aca5-4a6c-9648-93295381c433",
   "metadata": {},
   "source": [
    "## Save history"
   ]
  },
  {
   "cell_type": "code",
   "execution_count": 49,
   "id": "c798f723-87cc-48c8-b1c1-93507f088eff",
   "metadata": {},
   "outputs": [],
   "source": [
    "#H.save_pickle(f'data_explor/imgep_run_{k}_{N}')"
   ]
  },
  {
   "cell_type": "code",
   "execution_count": 8,
   "id": "d7002564-8315-4357-afae-818df1757ce3",
   "metadata": {},
   "outputs": [],
   "source": [
    "content_rand = H_rand.content()"
   ]
  },
  {
   "cell_type": "code",
   "execution_count": 16,
   "id": "409d37d9-9d29-4e74-83f4-63b9d1787f58",
   "metadata": {},
   "outputs": [
    {
     "data": {
      "text/plain": [
       "10000"
      ]
     },
     "execution_count": 16,
     "metadata": {},
     "output_type": "execute_result"
    }
   ],
   "source": [
    "len(H_rand)"
   ]
  },
  {
   "cell_type": "code",
   "execution_count": 14,
   "id": "39ca19c2-e935-4625-9cb3-4b27c7a614f9",
   "metadata": {},
   "outputs": [],
   "source": [
    "name = 'data_explor/rand_run'\n",
    "content_rand = load(name)"
   ]
  },
  {
   "cell_type": "code",
   "execution_count": 15,
   "id": "06504e18-8685-4f05-bc1b-0ed0d086b281",
   "metadata": {},
   "outputs": [],
   "source": [
    "for k in [1]:\n",
    "    for s in [0]:  \n",
    "        name = f'data_explor/imgep_run_{k}_{N}_s_{s}'\n",
    "        content_imgep = load(name)\n",
    "        plot_ddr_miss_ratio_diversity(content_rand['memory_perf'],content_imgep['memory_perf'], f'images/miss_ratios_k_{k}_s_{s}', show=False)\n",
    "        plot_time_diversity(content_rand['memory_perf'],content_imgep['memory_perf'], f'images/time_k_{k}_s_{s}', show=False)"
   ]
  },
  {
   "cell_type": "code",
   "execution_count": null,
   "id": "5ff7bbf0-5c20-484e-aa02-0d1c39226e98",
   "metadata": {},
   "outputs": [],
   "source": [
    "help(Pi.select_closest_codes)"
   ]
  },
  {
   "cell_type": "code",
   "execution_count": 27,
   "id": "c602cdea-4e76-4390-afe3-35f494109bc0",
   "metadata": {},
   "outputs": [],
   "source": [
    "H.memory_program = content_imgep['memory_program']\n",
    "H.memory_perf = content_imgep['memory_perf']\n",
    "H.j = 1000"
   ]
  },
  {
   "cell_type": "code",
   "execution_count": 28,
   "id": "c0b06a7d-ddc6-451a-ab4c-a851cba9722d",
   "metadata": {},
   "outputs": [
    {
     "data": {
      "text/plain": [
       "{'program': {'core0': [{0: ('write', 6),\n",
       "    1: ('write', 6),\n",
       "    2: ('read', 5),\n",
       "    3: ('write', 5),\n",
       "    6: ('write', 2),\n",
       "    11: ('write', 8),\n",
       "    13: ('write', 7),\n",
       "    16: ('write', 8),\n",
       "    23: ('read', 3),\n",
       "    30: ('read', 9),\n",
       "    33: ('write', 1),\n",
       "    34: ('write', 5),\n",
       "    36: ('read', 0),\n",
       "    41: ('write', 1),\n",
       "    42: ('write', 6),\n",
       "    45: ('read', 7),\n",
       "    51: ('write', 9),\n",
       "    53: ('write', 10),\n",
       "    54: ('write', 7),\n",
       "    57: ('write', 6)}],\n",
       "  'core1': [{11: ('read', 20), 40: ('write', 12)}]}}"
      ]
     },
     "execution_count": 28,
     "metadata": {},
     "output_type": "execute_result"
    }
   ],
   "source": [
    "Pi.select_closest_codes(H,np.array([300]),4)"
   ]
  },
  {
   "cell_type": "code",
   "execution_count": 31,
   "id": "8f00a71b-62f1-4b46-8fff-d1d601a617e0",
   "metadata": {},
   "outputs": [],
   "source": [
    "H.j = len(H.memory_program['core0'])"
   ]
  },
  {
   "cell_type": "code",
   "execution_count": 26,
   "id": "503ff0ba-fe51-43e3-9f4a-b29fa94af856",
   "metadata": {},
   "outputs": [
    {
     "data": {
      "text/plain": [
       "0"
      ]
     },
     "execution_count": 26,
     "metadata": {},
     "output_type": "execute_result"
    }
   ],
   "source": [
    "len(H_rand)"
   ]
  },
  {
   "cell_type": "code",
   "execution_count": null,
   "id": "867fae17-0c89-4b46-a365-bf781cb588ea",
   "metadata": {},
   "outputs": [],
   "source": []
  }
 ],
 "metadata": {
  "kernelspec": {
   "display_name": "Python 3 (ipykernel)",
   "language": "python",
   "name": "python3"
  },
  "language_info": {
   "codemirror_mode": {
    "name": "ipython",
    "version": 3
   },
   "file_extension": ".py",
   "mimetype": "text/x-python",
   "name": "python",
   "nbconvert_exporter": "python",
   "pygments_lexer": "ipython3",
   "version": "3.10.12"
  }
 },
 "nbformat": 4,
 "nbformat_minor": 5
}
