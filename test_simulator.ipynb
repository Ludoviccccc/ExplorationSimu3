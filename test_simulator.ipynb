{
 "cells": [
  {
   "cell_type": "code",
   "execution_count": 1,
   "id": "6e9c5f6b-fb92-4e36-9e3a-8ba72653ae90",
   "metadata": {},
   "outputs": [],
   "source": [
    "from simulator.sim3 import *\n",
    "from exploration.env.func import Experiment, Env\n",
    "from exploration.random.func import RANDOM\n",
    "import numpy as np\n",
    "from codegeneration import generate_instruction_sequence\n",
    "from simulator.sim3 import print_contention_analysis\n",
    "import pandas as pd"
   ]
  },
  {
   "cell_type": "markdown",
   "id": "14b960e2-4b18-4e99-94f2-39b640ce7cf0",
   "metadata": {},
   "source": [
    "# Perform tests for the simulator"
   ]
  },
  {
   "cell_type": "code",
   "execution_count": 2,
   "id": "7775e823-d7b1-4913-be92-a44eef082216",
   "metadata": {},
   "outputs": [
    {
     "name": "stdout",
     "output_type": "stream",
     "text": [
      "===================================================================\n",
      "1 core, 2 read cycles, same cache line, no dependency\n",
      "===================================================================\n",
      "\n",
      "--- Simulation Stats ---\n",
      "core0 {'level': 'L1', 'hits': 0, 'misses': 2, 'miss_rate': 1.0}\n",
      "core1 {'level': 'L1', 'hits': 0, 'misses': 0, 'miss_rate': 0}\n",
      "shared cache L2 {'level': 'L2', 'hits': 0, 'misses': 2, 'miss_rate': 1.0}\n",
      "ddr hits [[0. 0. 0. 0.]\n",
      " [0. 0. 0. 0.]]\n",
      "ddr miss [[1. 0. 0. 0.]\n",
      " [0. 1. 0. 0.]]\n"
     ]
    }
   ],
   "source": [
    "print(\"===================================================================\")\n",
    "print(\"1 core, 2 read cycles, same cache line, no dependency\")\n",
    "print(\"===================================================================\")\n",
    "# 1st RD => cache miss => DDR reads transaction \n",
    "# 2nd RD => cache hit => no DDR transaction\n",
    "# Create instruction sequences\n",
    "GlobalVar.clear_history()\n",
    "inst0 = { 0: ('read', 0), 60: ('read', 17) }\n",
    "inst1 = {}\n",
    "\n",
    "exp=Experiment()\n",
    "exp.load_instr(inst0, inst1)\n",
    "\n",
    "results = exp.simulate(200, display_stats=True)"
   ]
  },
  {
   "cell_type": "code",
   "execution_count": 3,
   "id": "6a40c48f-86f7-4b0c-9621-95be75081b36",
   "metadata": {},
   "outputs": [
    {
     "name": "stdout",
     "output_type": "stream",
     "text": [
      "===================================================================\n",
      "1 core, 2 read cycles,same index, same tag, same bank, different rows, no dependency\n",
      "===================================================================\n",
      "\n",
      "--- Simulation Stats ---\n",
      "core0 {'level': 'L1', 'hits': 0, 'misses': 2, 'miss_rate': 1.0}\n",
      "core1 {'level': 'L1', 'hits': 0, 'misses': 0, 'miss_rate': 0}\n",
      "shared cache L2 {'level': 'L2', 'hits': 0, 'misses': 2, 'miss_rate': 1.0}\n",
      "ddr hits [[0. 0. 0. 0.]\n",
      " [0. 0. 0. 0.]]\n",
      "ddr miss [[1. 0. 0. 0.]\n",
      " [1. 0. 0. 0.]]\n",
      "DDR miss ratio:\n"
     ]
    },
    {
     "data": {
      "text/html": [
       "<div>\n",
       "<style scoped>\n",
       "    .dataframe tbody tr th:only-of-type {\n",
       "        vertical-align: middle;\n",
       "    }\n",
       "\n",
       "    .dataframe tbody tr th {\n",
       "        vertical-align: top;\n",
       "    }\n",
       "\n",
       "    .dataframe thead th {\n",
       "        text-align: right;\n",
       "    }\n",
       "</style>\n",
       "<table border=\"1\" class=\"dataframe\">\n",
       "  <thead>\n",
       "    <tr style=\"text-align: right;\">\n",
       "      <th></th>\n",
       "      <th>bank 0</th>\n",
       "      <th>bank 1</th>\n",
       "      <th>bank 2</th>\n",
       "      <th>bank 3</th>\n",
       "    </tr>\n",
       "  </thead>\n",
       "  <tbody>\n",
       "    <tr>\n",
       "      <th>row 0</th>\n",
       "      <td>1.0</td>\n",
       "      <td>-0.0</td>\n",
       "      <td>-0.0</td>\n",
       "      <td>-0.0</td>\n",
       "    </tr>\n",
       "    <tr>\n",
       "      <th>row 1</th>\n",
       "      <td>1.0</td>\n",
       "      <td>-0.0</td>\n",
       "      <td>-0.0</td>\n",
       "      <td>-0.0</td>\n",
       "    </tr>\n",
       "  </tbody>\n",
       "</table>\n",
       "</div>"
      ],
      "text/plain": [
       "       bank 0  bank 1  bank 2  bank 3\n",
       "row 0     1.0    -0.0    -0.0    -0.0\n",
       "row 1     1.0    -0.0    -0.0    -0.0"
      ]
     },
     "execution_count": 3,
     "metadata": {},
     "output_type": "execute_result"
    }
   ],
   "source": [
    "GlobalVar.clear_history()\n",
    "print(\"===================================================================\")\n",
    "print(\"1 core, 2 read cycles,same index, same tag, same bank, different rows, no dependency\")\n",
    "print(\"===================================================================\")\n",
    "# 1st RD => cache miss => DDR reads transaction \n",
    "# 2nd RD => cache miss => DDR reads transaction \n",
    "# Create instruction sequences\n",
    "inst0 = { 0: ('read', 0), 60: ('read', 20) }\n",
    "inst1 = {  }\n",
    "\n",
    "exp=Experiment()\n",
    "exp.load_instr(inst0, inst1)\n",
    "results = exp.simulate(200,display_stats=True)\n",
    "import pandas as pd\n",
    "print('DDR miss ratio:')\n",
    "pd.DataFrame(results['miss_ratios_detailled'],columns=[f'bank {j}' for j in range(4)],index = [f'row {j}' for j in range(2)])"
   ]
  },
  {
   "cell_type": "code",
   "execution_count": 4,
   "id": "aeefa9b6-6ac0-41ed-8663-c7fc40743c04",
   "metadata": {
    "scrolled": true
   },
   "outputs": [
    {
     "name": "stdout",
     "output_type": "stream",
     "text": [
      "===================================================================\n",
      "1 core, 2 read cycles, same cache line, no dependency\n",
      "===================================================================\n",
      "\n",
      "--- Simulation Stats ---\n",
      "core0 {'level': 'L1', 'hits': 0, 'misses': 2, 'miss_rate': 1.0}\n",
      "core1 {'level': 'L1', 'hits': 0, 'misses': 0, 'miss_rate': 0}\n",
      "shared cache L2 {'level': 'L2', 'hits': 0, 'misses': 2, 'miss_rate': 1.0}\n",
      "ddr hits [[1. 0. 0. 0.]\n",
      " [0. 0. 0. 0.]]\n",
      "ddr miss [[1. 0. 0. 0.]\n",
      " [0. 0. 0. 0.]]\n",
      "DDR miss ratio:\n"
     ]
    },
    {
     "data": {
      "text/html": [
       "<div>\n",
       "<style scoped>\n",
       "    .dataframe tbody tr th:only-of-type {\n",
       "        vertical-align: middle;\n",
       "    }\n",
       "\n",
       "    .dataframe tbody tr th {\n",
       "        vertical-align: top;\n",
       "    }\n",
       "\n",
       "    .dataframe thead th {\n",
       "        text-align: right;\n",
       "    }\n",
       "</style>\n",
       "<table border=\"1\" class=\"dataframe\">\n",
       "  <thead>\n",
       "    <tr style=\"text-align: right;\">\n",
       "      <th></th>\n",
       "      <th>bank 0</th>\n",
       "      <th>bank 1</th>\n",
       "      <th>bank 2</th>\n",
       "      <th>bank 3</th>\n",
       "    </tr>\n",
       "  </thead>\n",
       "  <tbody>\n",
       "    <tr>\n",
       "      <th>row 0</th>\n",
       "      <td>0.5</td>\n",
       "      <td>-0.0</td>\n",
       "      <td>-0.0</td>\n",
       "      <td>-0.0</td>\n",
       "    </tr>\n",
       "    <tr>\n",
       "      <th>row 1</th>\n",
       "      <td>-0.0</td>\n",
       "      <td>-0.0</td>\n",
       "      <td>-0.0</td>\n",
       "      <td>-0.0</td>\n",
       "    </tr>\n",
       "  </tbody>\n",
       "</table>\n",
       "</div>"
      ],
      "text/plain": [
       "       bank 0  bank 1  bank 2  bank 3\n",
       "row 0     0.5    -0.0    -0.0    -0.0\n",
       "row 1    -0.0    -0.0    -0.0    -0.0"
      ]
     },
     "execution_count": 4,
     "metadata": {},
     "output_type": "execute_result"
    }
   ],
   "source": [
    "print(\"===================================================================\")\n",
    "print(\"1 core, 2 read cycles, same cache line, no dependency\")\n",
    "print(\"===================================================================\")\n",
    "# 1st RD => cache miss => DDR reads transaction \n",
    "# 2nd RD => cache hit => no DDR transaction\n",
    "# Create instruction sequences\n",
    "GlobalVar.clear_history()\n",
    "inst0 = { 0: ('read', 0), 60: ('read', 0) }\n",
    "inst1 = {}\n",
    "#inst1 = { 0:('read', 4)}\n",
    "\n",
    "exp=Experiment()\n",
    "exp.load_instr(inst0, inst1)\n",
    "\n",
    "results = exp.simulate(200, display_stats=True)\n",
    "print('DDR miss ratio:')\n",
    "pd.DataFrame(results['miss_ratios_detailled'],columns=[f'bank {j}' for j in range(4)],index = [f'row {j}' for j in range(2)])"
   ]
  },
  {
   "cell_type": "code",
   "execution_count": 12,
   "id": "7ee61ab4-45dd-46e0-8b07-55a778477aaf",
   "metadata": {},
   "outputs": [
    {
     "name": "stdout",
     "output_type": "stream",
     "text": [
      "===================================================================\n",
      "1 core, 2 read cycles, different bank, no dependency\n",
      "===================================================================\n",
      "\n",
      "--- Simulation Stats ---\n",
      "core0 {'level': 'L1', 'hits': 0, 'misses': 2, 'miss_rate': 1.0}\n",
      "core1 {'level': 'L1', 'hits': 0, 'misses': 0, 'miss_rate': 0}\n",
      "shared cache L2 {'level': 'L2', 'hits': 0, 'misses': 2, 'miss_rate': 1.0}\n",
      "ddr hits [[0. 0. 0. 0.]\n",
      " [0. 0. 0. 0.]]\n",
      "ddr miss [[1. 0. 0. 0.]\n",
      " [0. 1. 0. 0.]]\n"
     ]
    }
   ],
   "source": [
    "GlobalVar.clear_history()\n",
    "print(\"===================================================================\")\n",
    "print(\"1 core, 2 read cycles, different bank, no dependency\")\n",
    "print(\"===================================================================\")\n",
    "# bank nb = addr % num_banks, with num_banks=4\n",
    "# row nb = addr // 16\n",
    "# 1st RD in bank 0, row 0 \n",
    "# 1st RD in bank 1, row 1\n",
    "# 2nd RD => cache miss => DDR transaction\n",
    "# Create instruction sequences\n",
    "\n",
    "# 1st RD => cache miss => DDR reads transaction \n",
    "# 2nd RD => cache miss => DDR reads transaction \n",
    "inst0 = { 0: ('read', 0), 60: ('read', 17)}\n",
    "inst1 = {  }\n",
    "\n",
    "exp=Experiment()\n",
    "exp.load_instr(inst0, inst1)\n",
    "\n",
    "results = exp.simulate(100, display_stats=True)"
   ]
  }
 ],
 "metadata": {
  "kernelspec": {
   "display_name": "Python 3 (ipykernel)",
   "language": "python",
   "name": "python3"
  },
  "language_info": {
   "codemirror_mode": {
    "name": "ipython",
    "version": 3
   },
   "file_extension": ".py",
   "mimetype": "text/x-python",
   "name": "python",
   "nbconvert_exporter": "python",
   "pygments_lexer": "ipython3",
   "version": "3.10.12"
  }
 },
 "nbformat": 4,
 "nbformat_minor": 5
}
